{
 "cells": [
  {
   "cell_type": "code",
   "execution_count": 68,
   "metadata": {},
   "outputs": [],
   "source": [
    "import pandas as pd\n",
    "import numpy as np\n",
    "\n",
    "import matplotlib.pyplot as plt\n",
    "import seaborn as sns\n",
    "\n",
    "from sklearn.preprocessing import StandardScaler, MinMaxScaler\n",
    "from sklearn.decomposition import PCA\n",
    "from sklearn.model_selection import train_test_split\n",
    "from sklearn.pipeline import Pipeline\n",
    "from sklearn.metrics import classification_report\n",
    "\n",
    "from sklearn.linear_model import LogisticRegression\n",
    "from sklearn.ensemble import RandomForestClassifier\n",
    "from sklearn.ensemble import BaggingClassifier\n",
    "\n",
    "from sklearn.model_selection import GridSearchCV\n",
    "\n",
    "from xgboost import XGBClassifier\n",
    "from catboost import CatBoostClassifier\n",
    "\n",
    "import warnings\n",
    "warnings.filterwarnings('ignore')\n",
    "plt.style.use('ggplot')\n",
    "%matplotlib inline"
   ]
  },
  {
   "cell_type": "markdown",
   "metadata": {},
   "source": [
    "## EDA"
   ]
  },
  {
   "cell_type": "code",
   "execution_count": 69,
   "metadata": {},
   "outputs": [
    {
     "data": {
      "text/html": [
       "<div>\n",
       "<style scoped>\n",
       "    .dataframe tbody tr th:only-of-type {\n",
       "        vertical-align: middle;\n",
       "    }\n",
       "\n",
       "    .dataframe tbody tr th {\n",
       "        vertical-align: top;\n",
       "    }\n",
       "\n",
       "    .dataframe thead th {\n",
       "        text-align: right;\n",
       "    }\n",
       "</style>\n",
       "<table border=\"1\" class=\"dataframe\">\n",
       "  <thead>\n",
       "    <tr style=\"text-align: right;\">\n",
       "      <th></th>\n",
       "      <th>PassengerId</th>\n",
       "      <th>Survived</th>\n",
       "      <th>Pclass</th>\n",
       "      <th>Name</th>\n",
       "      <th>Sex</th>\n",
       "      <th>Age</th>\n",
       "      <th>SibSp</th>\n",
       "      <th>Parch</th>\n",
       "      <th>Ticket</th>\n",
       "      <th>Fare</th>\n",
       "      <th>Cabin</th>\n",
       "      <th>Embarked</th>\n",
       "    </tr>\n",
       "  </thead>\n",
       "  <tbody>\n",
       "    <tr>\n",
       "      <th>0</th>\n",
       "      <td>1</td>\n",
       "      <td>0.0</td>\n",
       "      <td>3</td>\n",
       "      <td>Braund, Mr. Owen Harris</td>\n",
       "      <td>male</td>\n",
       "      <td>22.0</td>\n",
       "      <td>1</td>\n",
       "      <td>0</td>\n",
       "      <td>A/5 21171</td>\n",
       "      <td>7.2500</td>\n",
       "      <td>NaN</td>\n",
       "      <td>S</td>\n",
       "    </tr>\n",
       "    <tr>\n",
       "      <th>1</th>\n",
       "      <td>2</td>\n",
       "      <td>1.0</td>\n",
       "      <td>1</td>\n",
       "      <td>Cumings, Mrs. John Bradley (Florence Briggs Th...</td>\n",
       "      <td>female</td>\n",
       "      <td>38.0</td>\n",
       "      <td>1</td>\n",
       "      <td>0</td>\n",
       "      <td>PC 17599</td>\n",
       "      <td>71.2833</td>\n",
       "      <td>C85</td>\n",
       "      <td>C</td>\n",
       "    </tr>\n",
       "    <tr>\n",
       "      <th>2</th>\n",
       "      <td>3</td>\n",
       "      <td>1.0</td>\n",
       "      <td>3</td>\n",
       "      <td>Heikkinen, Miss. Laina</td>\n",
       "      <td>female</td>\n",
       "      <td>26.0</td>\n",
       "      <td>0</td>\n",
       "      <td>0</td>\n",
       "      <td>STON/O2. 3101282</td>\n",
       "      <td>7.9250</td>\n",
       "      <td>NaN</td>\n",
       "      <td>S</td>\n",
       "    </tr>\n",
       "    <tr>\n",
       "      <th>3</th>\n",
       "      <td>4</td>\n",
       "      <td>1.0</td>\n",
       "      <td>1</td>\n",
       "      <td>Futrelle, Mrs. Jacques Heath (Lily May Peel)</td>\n",
       "      <td>female</td>\n",
       "      <td>35.0</td>\n",
       "      <td>1</td>\n",
       "      <td>0</td>\n",
       "      <td>113803</td>\n",
       "      <td>53.1000</td>\n",
       "      <td>C123</td>\n",
       "      <td>S</td>\n",
       "    </tr>\n",
       "    <tr>\n",
       "      <th>4</th>\n",
       "      <td>5</td>\n",
       "      <td>0.0</td>\n",
       "      <td>3</td>\n",
       "      <td>Allen, Mr. William Henry</td>\n",
       "      <td>male</td>\n",
       "      <td>35.0</td>\n",
       "      <td>0</td>\n",
       "      <td>0</td>\n",
       "      <td>373450</td>\n",
       "      <td>8.0500</td>\n",
       "      <td>NaN</td>\n",
       "      <td>S</td>\n",
       "    </tr>\n",
       "  </tbody>\n",
       "</table>\n",
       "</div>"
      ],
      "text/plain": [
       "   PassengerId  Survived  Pclass  \\\n",
       "0            1       0.0       3   \n",
       "1            2       1.0       1   \n",
       "2            3       1.0       3   \n",
       "3            4       1.0       1   \n",
       "4            5       0.0       3   \n",
       "\n",
       "                                                Name     Sex   Age  SibSp  \\\n",
       "0                            Braund, Mr. Owen Harris    male  22.0      1   \n",
       "1  Cumings, Mrs. John Bradley (Florence Briggs Th...  female  38.0      1   \n",
       "2                             Heikkinen, Miss. Laina  female  26.0      0   \n",
       "3       Futrelle, Mrs. Jacques Heath (Lily May Peel)  female  35.0      1   \n",
       "4                           Allen, Mr. William Henry    male  35.0      0   \n",
       "\n",
       "   Parch            Ticket     Fare Cabin Embarked  \n",
       "0      0         A/5 21171   7.2500   NaN        S  \n",
       "1      0          PC 17599  71.2833   C85        C  \n",
       "2      0  STON/O2. 3101282   7.9250   NaN        S  \n",
       "3      0            113803  53.1000  C123        S  \n",
       "4      0            373450   8.0500   NaN        S  "
      ]
     },
     "execution_count": 69,
     "metadata": {},
     "output_type": "execute_result"
    }
   ],
   "source": [
    "train = pd.read_csv('data/train1.csv')\n",
    "test = pd.read_csv('data/test1.csv')\n",
    "\n",
    "df = pd.concat([train, test])\n",
    "\n",
    "df.head()"
   ]
  },
  {
   "cell_type": "code",
   "execution_count": 70,
   "metadata": {},
   "outputs": [],
   "source": [
    "df = df.drop('PassengerId', axis = 1)"
   ]
  },
  {
   "cell_type": "code",
   "execution_count": 71,
   "metadata": {},
   "outputs": [
    {
     "name": "stdout",
     "output_type": "stream",
     "text": [
      "<class 'pandas.core.frame.DataFrame'>\n",
      "Int64Index: 1309 entries, 0 to 417\n",
      "Data columns (total 11 columns):\n",
      " #   Column    Non-Null Count  Dtype  \n",
      "---  ------    --------------  -----  \n",
      " 0   Survived  891 non-null    float64\n",
      " 1   Pclass    1309 non-null   int64  \n",
      " 2   Name      1309 non-null   object \n",
      " 3   Sex       1309 non-null   object \n",
      " 4   Age       1046 non-null   float64\n",
      " 5   SibSp     1309 non-null   int64  \n",
      " 6   Parch     1309 non-null   int64  \n",
      " 7   Ticket    1309 non-null   object \n",
      " 8   Fare      1308 non-null   float64\n",
      " 9   Cabin     295 non-null    object \n",
      " 10  Embarked  1307 non-null   object \n",
      "dtypes: float64(3), int64(3), object(5)\n",
      "memory usage: 122.7+ KB\n"
     ]
    }
   ],
   "source": [
    "df.info()"
   ]
  },
  {
   "cell_type": "code",
   "execution_count": 72,
   "metadata": {},
   "outputs": [
    {
     "data": {
      "text/html": [
       "<div>\n",
       "<style scoped>\n",
       "    .dataframe tbody tr th:only-of-type {\n",
       "        vertical-align: middle;\n",
       "    }\n",
       "\n",
       "    .dataframe tbody tr th {\n",
       "        vertical-align: top;\n",
       "    }\n",
       "\n",
       "    .dataframe thead th {\n",
       "        text-align: right;\n",
       "    }\n",
       "</style>\n",
       "<table border=\"1\" class=\"dataframe\">\n",
       "  <thead>\n",
       "    <tr style=\"text-align: right;\">\n",
       "      <th></th>\n",
       "      <th>Survived</th>\n",
       "      <th>Pclass</th>\n",
       "      <th>Age</th>\n",
       "      <th>SibSp</th>\n",
       "      <th>Parch</th>\n",
       "      <th>Fare</th>\n",
       "    </tr>\n",
       "  </thead>\n",
       "  <tbody>\n",
       "    <tr>\n",
       "      <th>count</th>\n",
       "      <td>891.000000</td>\n",
       "      <td>1309.000000</td>\n",
       "      <td>1046.000000</td>\n",
       "      <td>1309.000000</td>\n",
       "      <td>1309.000000</td>\n",
       "      <td>1308.000000</td>\n",
       "    </tr>\n",
       "    <tr>\n",
       "      <th>mean</th>\n",
       "      <td>0.383838</td>\n",
       "      <td>2.294882</td>\n",
       "      <td>29.881138</td>\n",
       "      <td>0.498854</td>\n",
       "      <td>0.385027</td>\n",
       "      <td>33.295479</td>\n",
       "    </tr>\n",
       "    <tr>\n",
       "      <th>std</th>\n",
       "      <td>0.486592</td>\n",
       "      <td>0.837836</td>\n",
       "      <td>14.413493</td>\n",
       "      <td>1.041658</td>\n",
       "      <td>0.865560</td>\n",
       "      <td>51.758668</td>\n",
       "    </tr>\n",
       "    <tr>\n",
       "      <th>min</th>\n",
       "      <td>0.000000</td>\n",
       "      <td>1.000000</td>\n",
       "      <td>0.170000</td>\n",
       "      <td>0.000000</td>\n",
       "      <td>0.000000</td>\n",
       "      <td>0.000000</td>\n",
       "    </tr>\n",
       "    <tr>\n",
       "      <th>25%</th>\n",
       "      <td>0.000000</td>\n",
       "      <td>2.000000</td>\n",
       "      <td>21.000000</td>\n",
       "      <td>0.000000</td>\n",
       "      <td>0.000000</td>\n",
       "      <td>7.895800</td>\n",
       "    </tr>\n",
       "    <tr>\n",
       "      <th>50%</th>\n",
       "      <td>0.000000</td>\n",
       "      <td>3.000000</td>\n",
       "      <td>28.000000</td>\n",
       "      <td>0.000000</td>\n",
       "      <td>0.000000</td>\n",
       "      <td>14.454200</td>\n",
       "    </tr>\n",
       "    <tr>\n",
       "      <th>75%</th>\n",
       "      <td>1.000000</td>\n",
       "      <td>3.000000</td>\n",
       "      <td>39.000000</td>\n",
       "      <td>1.000000</td>\n",
       "      <td>0.000000</td>\n",
       "      <td>31.275000</td>\n",
       "    </tr>\n",
       "    <tr>\n",
       "      <th>max</th>\n",
       "      <td>1.000000</td>\n",
       "      <td>3.000000</td>\n",
       "      <td>80.000000</td>\n",
       "      <td>8.000000</td>\n",
       "      <td>9.000000</td>\n",
       "      <td>512.329200</td>\n",
       "    </tr>\n",
       "  </tbody>\n",
       "</table>\n",
       "</div>"
      ],
      "text/plain": [
       "         Survived       Pclass          Age        SibSp        Parch  \\\n",
       "count  891.000000  1309.000000  1046.000000  1309.000000  1309.000000   \n",
       "mean     0.383838     2.294882    29.881138     0.498854     0.385027   \n",
       "std      0.486592     0.837836    14.413493     1.041658     0.865560   \n",
       "min      0.000000     1.000000     0.170000     0.000000     0.000000   \n",
       "25%      0.000000     2.000000    21.000000     0.000000     0.000000   \n",
       "50%      0.000000     3.000000    28.000000     0.000000     0.000000   \n",
       "75%      1.000000     3.000000    39.000000     1.000000     0.000000   \n",
       "max      1.000000     3.000000    80.000000     8.000000     9.000000   \n",
       "\n",
       "              Fare  \n",
       "count  1308.000000  \n",
       "mean     33.295479  \n",
       "std      51.758668  \n",
       "min       0.000000  \n",
       "25%       7.895800  \n",
       "50%      14.454200  \n",
       "75%      31.275000  \n",
       "max     512.329200  "
      ]
     },
     "execution_count": 72,
     "metadata": {},
     "output_type": "execute_result"
    }
   ],
   "source": [
    "df.describe()"
   ]
  },
  {
   "cell_type": "code",
   "execution_count": 73,
   "metadata": {},
   "outputs": [
    {
     "data": {
      "text/html": [
       "<div>\n",
       "<style scoped>\n",
       "    .dataframe tbody tr th:only-of-type {\n",
       "        vertical-align: middle;\n",
       "    }\n",
       "\n",
       "    .dataframe tbody tr th {\n",
       "        vertical-align: top;\n",
       "    }\n",
       "\n",
       "    .dataframe thead th {\n",
       "        text-align: right;\n",
       "    }\n",
       "</style>\n",
       "<table border=\"1\" class=\"dataframe\">\n",
       "  <thead>\n",
       "    <tr style=\"text-align: right;\">\n",
       "      <th></th>\n",
       "      <th>Name</th>\n",
       "      <th>Sex</th>\n",
       "      <th>Ticket</th>\n",
       "      <th>Cabin</th>\n",
       "      <th>Embarked</th>\n",
       "    </tr>\n",
       "  </thead>\n",
       "  <tbody>\n",
       "    <tr>\n",
       "      <th>count</th>\n",
       "      <td>1309</td>\n",
       "      <td>1309</td>\n",
       "      <td>1309</td>\n",
       "      <td>295</td>\n",
       "      <td>1307</td>\n",
       "    </tr>\n",
       "    <tr>\n",
       "      <th>unique</th>\n",
       "      <td>1307</td>\n",
       "      <td>2</td>\n",
       "      <td>929</td>\n",
       "      <td>186</td>\n",
       "      <td>3</td>\n",
       "    </tr>\n",
       "    <tr>\n",
       "      <th>top</th>\n",
       "      <td>Connolly, Miss. Kate</td>\n",
       "      <td>male</td>\n",
       "      <td>CA. 2343</td>\n",
       "      <td>C23 C25 C27</td>\n",
       "      <td>S</td>\n",
       "    </tr>\n",
       "    <tr>\n",
       "      <th>freq</th>\n",
       "      <td>2</td>\n",
       "      <td>843</td>\n",
       "      <td>11</td>\n",
       "      <td>6</td>\n",
       "      <td>914</td>\n",
       "    </tr>\n",
       "  </tbody>\n",
       "</table>\n",
       "</div>"
      ],
      "text/plain": [
       "                        Name   Sex    Ticket        Cabin Embarked\n",
       "count                   1309  1309      1309          295     1307\n",
       "unique                  1307     2       929          186        3\n",
       "top     Connolly, Miss. Kate  male  CA. 2343  C23 C25 C27        S\n",
       "freq                       2   843        11            6      914"
      ]
     },
     "execution_count": 73,
     "metadata": {},
     "output_type": "execute_result"
    }
   ],
   "source": [
    "df.describe(include=['object'])"
   ]
  },
  {
   "cell_type": "code",
   "execution_count": 74,
   "metadata": {},
   "outputs": [
    {
     "data": {
      "text/plain": [
       "Survived     418\n",
       "Pclass         0\n",
       "Name           0\n",
       "Sex            0\n",
       "Age          263\n",
       "SibSp          0\n",
       "Parch          0\n",
       "Ticket         0\n",
       "Fare           1\n",
       "Cabin       1014\n",
       "Embarked       2\n",
       "dtype: int64"
      ]
     },
     "execution_count": 74,
     "metadata": {},
     "output_type": "execute_result"
    }
   ],
   "source": [
    "df.isna().sum()"
   ]
  },
  {
   "cell_type": "code",
   "execution_count": 75,
   "metadata": {},
   "outputs": [
    {
     "data": {
      "image/png": "[encoded data removed]",
      "text/plain": [
       "<Figure size 432x288 with 1 Axes>"
      ]
     },
     "metadata": {
      "needs_background": "light"
     },
     "output_type": "display_data"
    }
   ],
   "source": [
    "sns.countplot(df.Survived)\n",
    "sns.despine()"
   ]
  },
  {
   "cell_type": "code",
   "execution_count": 76,
   "metadata": {},
   "outputs": [
    {
     "data": {
      "image/png": "[encoded data removed]",
      "text/plain": [
       "<Figure size 432x288 with 1 Axes>"
      ]
     },
     "metadata": {
      "needs_background": "light"
     },
     "output_type": "display_data"
    }
   ],
   "source": [
    "sns.countplot(df.Embarked)\n",
    "plt.title('Распределение Embarked')\n",
    "sns.despine()"
   ]
  },
  {
   "cell_type": "code",
   "execution_count": 77,
   "metadata": {},
   "outputs": [
    {
     "data": {
      "image/png": "[encoded data removed]",
      "text/plain": [
       "<Figure size 432x288 with 1 Axes>"
      ]
     },
     "metadata": {
      "needs_background": "light"
     },
     "output_type": "display_data"
    }
   ],
   "source": [
    "sns.barplot(df.Embarked, df.Survived)\n",
    "plt.title('Зависимость Embarked от Survived')\n",
    "sns.despine()"
   ]
  },
  {
   "cell_type": "code",
   "execution_count": 78,
   "metadata": {},
   "outputs": [
    {
     "data": {
      "image/png": "[encoded data removed]",
      "text/plain": [
       "<Figure size 432x288 with 1 Axes>"
      ]
     },
     "metadata": {
      "needs_background": "light"
     },
     "output_type": "display_data"
    }
   ],
   "source": [
    "sns.countplot(df.Sex)\n",
    "plt.title('Sex distribution')\n",
    "plt.show()"
   ]
  },
  {
   "cell_type": "code",
   "execution_count": 79,
   "metadata": {},
   "outputs": [
    {
     "data": {
      "image/png": "[encoded data removed]",
      "text/plain": [
       "<Figure size 432x288 with 1 Axes>"
      ]
     },
     "metadata": {
      "needs_background": "light"
     },
     "output_type": "display_data"
    }
   ],
   "source": [
    "sns.barplot(df.Sex, df.Survived)\n",
    "plt.title('Зависимость Пола от Survived')\n",
    "plt.show()"
   ]
  },
  {
   "cell_type": "code",
   "execution_count": 80,
   "metadata": {},
   "outputs": [
    {
     "data": {
      "text/html": [
       "<div>\n",
       "<style scoped>\n",
       "    .dataframe tbody tr th:only-of-type {\n",
       "        vertical-align: middle;\n",
       "    }\n",
       "\n",
       "    .dataframe tbody tr th {\n",
       "        vertical-align: top;\n",
       "    }\n",
       "\n",
       "    .dataframe thead th {\n",
       "        text-align: right;\n",
       "    }\n",
       "</style>\n",
       "<table border=\"1\" class=\"dataframe\">\n",
       "  <thead>\n",
       "    <tr style=\"text-align: right;\">\n",
       "      <th>Survived</th>\n",
       "      <th>0.0</th>\n",
       "      <th>1.0</th>\n",
       "    </tr>\n",
       "    <tr>\n",
       "      <th>Sex</th>\n",
       "      <th></th>\n",
       "      <th></th>\n",
       "    </tr>\n",
       "  </thead>\n",
       "  <tbody>\n",
       "    <tr>\n",
       "      <th>female</th>\n",
       "      <td>81</td>\n",
       "      <td>233</td>\n",
       "    </tr>\n",
       "    <tr>\n",
       "      <th>male</th>\n",
       "      <td>468</td>\n",
       "      <td>109</td>\n",
       "    </tr>\n",
       "  </tbody>\n",
       "</table>\n",
       "</div>"
      ],
      "text/plain": [
       "Survived  0.0  1.0\n",
       "Sex               \n",
       "female     81  233\n",
       "male      468  109"
      ]
     },
     "execution_count": 80,
     "metadata": {},
     "output_type": "execute_result"
    }
   ],
   "source": [
    "pd.crosstab(df.Sex, df.Survived)"
   ]
  },
  {
   "cell_type": "code",
   "execution_count": 81,
   "metadata": {},
   "outputs": [
    {
     "data": {
      "image/png": "[encoded data removed]",
      "text/plain": [
       "<Figure size 360x360 with 1 Axes>"
      ]
     },
     "metadata": {
      "needs_background": "light"
     },
     "output_type": "display_data"
    }
   ],
   "source": [
    "sns.displot(df.Age, kde = True, bins = 30)\n",
    "plt.title('Age distribution')\n",
    "sns.despine()"
   ]
  },
  {
   "cell_type": "code",
   "execution_count": 82,
   "metadata": {},
   "outputs": [
    {
     "data": {
      "image/png": "[encoded data removed]",
      "text/plain": [
       "<Figure size 432x288 with 1 Axes>"
      ]
     },
     "metadata": {
      "needs_background": "light"
     },
     "output_type": "display_data"
    }
   ],
   "source": [
    "df['Age_category'] = pd.cut(df.Age, [0, 15, 25, 50, 80], labels = ['child', 'youth', 'adult', 'old'])\n",
    "sns.countplot(df.Age_category)\n",
    "plt.title('Age category distribution')\n",
    "plt.show()"
   ]
  },
  {
   "cell_type": "code",
   "execution_count": 83,
   "metadata": {},
   "outputs": [
    {
     "data": {
      "image/png": "[encoded data removed]",
      "text/plain": [
       "<Figure size 432x288 with 1 Axes>"
      ]
     },
     "metadata": {
      "needs_background": "light"
     },
     "output_type": "display_data"
    }
   ],
   "source": [
    "sns.barplot(df.Age_category, df.Survived)\n",
    "plt.title('Age category VS Survived')\n",
    "plt.show()"
   ]
  },
  {
   "cell_type": "code",
   "execution_count": 84,
   "metadata": {},
   "outputs": [
    {
     "data": {
      "text/html": [
       "<div>\n",
       "<style scoped>\n",
       "    .dataframe tbody tr th:only-of-type {\n",
       "        vertical-align: middle;\n",
       "    }\n",
       "\n",
       "    .dataframe tbody tr th {\n",
       "        vertical-align: top;\n",
       "    }\n",
       "\n",
       "    .dataframe thead th {\n",
       "        text-align: right;\n",
       "    }\n",
       "</style>\n",
       "<table border=\"1\" class=\"dataframe\">\n",
       "  <thead>\n",
       "    <tr style=\"text-align: right;\">\n",
       "      <th>Survived</th>\n",
       "      <th>0.0</th>\n",
       "      <th>1.0</th>\n",
       "    </tr>\n",
       "    <tr>\n",
       "      <th>Age_category</th>\n",
       "      <th></th>\n",
       "      <th></th>\n",
       "    </tr>\n",
       "  </thead>\n",
       "  <tbody>\n",
       "    <tr>\n",
       "      <th>child</th>\n",
       "      <td>34</td>\n",
       "      <td>49</td>\n",
       "    </tr>\n",
       "    <tr>\n",
       "      <th>youth</th>\n",
       "      <td>143</td>\n",
       "      <td>75</td>\n",
       "    </tr>\n",
       "    <tr>\n",
       "      <th>adult</th>\n",
       "      <td>205</td>\n",
       "      <td>144</td>\n",
       "    </tr>\n",
       "    <tr>\n",
       "      <th>old</th>\n",
       "      <td>42</td>\n",
       "      <td>22</td>\n",
       "    </tr>\n",
       "  </tbody>\n",
       "</table>\n",
       "</div>"
      ],
      "text/plain": [
       "Survived      0.0  1.0\n",
       "Age_category          \n",
       "child          34   49\n",
       "youth         143   75\n",
       "adult         205  144\n",
       "old            42   22"
      ]
     },
     "execution_count": 84,
     "metadata": {},
     "output_type": "execute_result"
    }
   ],
   "source": [
    "pd.crosstab(df.Age_category, df.Survived)"
   ]
  },
  {
   "cell_type": "code",
   "execution_count": 85,
   "metadata": {},
   "outputs": [
    {
     "data": {
      "text/plain": [
       "array([nan, 'C85', 'C123', 'E46', 'G6', 'C103', 'D56', 'A6',\n",
       "       'C23 C25 C27', 'B78', 'D33', 'B30', 'C52', 'B28', 'C83', 'F33',\n",
       "       'F G73', 'E31', 'A5', 'D10 D12', 'D26', 'C110', 'B58 B60', 'E101',\n",
       "       'F E69', 'D47', 'B86', 'F2', 'C2', 'E33', 'B19', 'A7', 'C49', 'F4',\n",
       "       'A32', 'B4', 'B80', 'A31', 'D36', 'D15', 'C93', 'C78', 'D35',\n",
       "       'C87', 'B77', 'E67', 'B94', 'C125', 'C99', 'C118', 'D7', 'A19',\n",
       "       'B49', 'D', 'C22 C26', 'C106', 'C65', 'E36', 'C54',\n",
       "       'B57 B59 B63 B66', 'C7', 'E34', 'C32', 'B18', 'C124', 'C91', 'E40',\n",
       "       'T', 'C128', 'D37', 'B35', 'E50', 'C82', 'B96 B98', 'E10', 'E44',\n",
       "       'A34', 'C104', 'C111', 'C92', 'E38', 'D21', 'E12', 'E63', 'A14',\n",
       "       'B37', 'C30', 'D20', 'B79', 'E25', 'D46', 'B73', 'C95', 'B38',\n",
       "       'B39', 'B22', 'C86', 'C70', 'A16', 'C101', 'C68', 'A10', 'E68',\n",
       "       'B41', 'A20', 'D19', 'D50', 'D9', 'A23', 'B50', 'A26', 'D48',\n",
       "       'E58', 'C126', 'B71', 'B51 B53 B55', 'D49', 'B5', 'B20', 'F G63',\n",
       "       'C62 C64', 'E24', 'C90', 'C45', 'E8', 'B101', 'D45', 'C46', 'D30',\n",
       "       'E121', 'D11', 'E77', 'F38', 'B3', 'D6', 'B82 B84', 'D17', 'A36',\n",
       "       'B102', 'B69', 'E49', 'C47', 'D28', 'E17', 'A24', 'C50', 'B42',\n",
       "       'C148', 'B45', 'B36', 'A21', 'D34', 'A9', 'C31', 'B61', 'C53',\n",
       "       'D43', 'C130', 'C132', 'C55 C57', 'C116', 'F', 'A29', 'C6', 'C28',\n",
       "       'C51', 'C97', 'D22', 'B10', 'E45', 'E52', 'A11', 'B11', 'C80',\n",
       "       'C89', 'F E46', 'B26', 'F E57', 'A18', 'E60', 'E39 E41',\n",
       "       'B52 B54 B56', 'C39', 'B24', 'D40', 'D38', 'C105'], dtype=object)"
      ]
     },
     "execution_count": 85,
     "metadata": {},
     "output_type": "execute_result"
    }
   ],
   "source": [
    "df.Cabin.unique()"
   ]
  },
  {
   "cell_type": "code",
   "execution_count": 86,
   "metadata": {},
   "outputs": [
    {
     "data": {
      "text/plain": [
       "array(['n', 'C', 'E', 'G', 'D', 'A', 'B', 'F', 'T'], dtype=object)"
      ]
     },
     "execution_count": 86,
     "metadata": {},
     "output_type": "execute_result"
    }
   ],
   "source": [
    "# как отличаются цены на билет взависимости от вида кабины и класса\n",
    "df['Cabin_Symbol'] = df.Cabin.apply(lambda x: str(x)[0])\n",
    "\n",
    "df.Cabin_Symbol.unique()"
   ]
  },
  {
   "cell_type": "code",
   "execution_count": 87,
   "metadata": {},
   "outputs": [
    {
     "data": {
      "text/html": [
       "<div>\n",
       "<style scoped>\n",
       "    .dataframe tbody tr th:only-of-type {\n",
       "        vertical-align: middle;\n",
       "    }\n",
       "\n",
       "    .dataframe tbody tr th {\n",
       "        vertical-align: top;\n",
       "    }\n",
       "\n",
       "    .dataframe thead th {\n",
       "        text-align: right;\n",
       "    }\n",
       "</style>\n",
       "<table border=\"1\" class=\"dataframe\">\n",
       "  <thead>\n",
       "    <tr style=\"text-align: right;\">\n",
       "      <th></th>\n",
       "      <th>Pclass</th>\n",
       "      <th>Cabin_Symbol</th>\n",
       "      <th>Fare</th>\n",
       "    </tr>\n",
       "  </thead>\n",
       "  <tbody>\n",
       "    <tr>\n",
       "      <th>1</th>\n",
       "      <td>1</td>\n",
       "      <td>B</td>\n",
       "      <td>122.383078</td>\n",
       "    </tr>\n",
       "    <tr>\n",
       "      <th>2</th>\n",
       "      <td>1</td>\n",
       "      <td>C</td>\n",
       "      <td>107.926598</td>\n",
       "    </tr>\n",
       "    <tr>\n",
       "      <th>6</th>\n",
       "      <td>1</td>\n",
       "      <td>n</td>\n",
       "      <td>70.268157</td>\n",
       "    </tr>\n",
       "    <tr>\n",
       "      <th>4</th>\n",
       "      <td>1</td>\n",
       "      <td>E</td>\n",
       "      <td>63.464706</td>\n",
       "    </tr>\n",
       "    <tr>\n",
       "      <th>3</th>\n",
       "      <td>1</td>\n",
       "      <td>D</td>\n",
       "      <td>58.919065</td>\n",
       "    </tr>\n",
       "    <tr>\n",
       "      <th>0</th>\n",
       "      <td>1</td>\n",
       "      <td>A</td>\n",
       "      <td>41.244314</td>\n",
       "    </tr>\n",
       "    <tr>\n",
       "      <th>5</th>\n",
       "      <td>1</td>\n",
       "      <td>T</td>\n",
       "      <td>35.500000</td>\n",
       "    </tr>\n",
       "    <tr>\n",
       "      <th>9</th>\n",
       "      <td>2</td>\n",
       "      <td>F</td>\n",
       "      <td>23.423077</td>\n",
       "    </tr>\n",
       "    <tr>\n",
       "      <th>10</th>\n",
       "      <td>2</td>\n",
       "      <td>n</td>\n",
       "      <td>21.394537</td>\n",
       "    </tr>\n",
       "    <tr>\n",
       "      <th>7</th>\n",
       "      <td>2</td>\n",
       "      <td>D</td>\n",
       "      <td>13.595833</td>\n",
       "    </tr>\n",
       "    <tr>\n",
       "      <th>8</th>\n",
       "      <td>2</td>\n",
       "      <td>E</td>\n",
       "      <td>11.587500</td>\n",
       "    </tr>\n",
       "    <tr>\n",
       "      <th>13</th>\n",
       "      <td>3</td>\n",
       "      <td>G</td>\n",
       "      <td>14.205000</td>\n",
       "    </tr>\n",
       "    <tr>\n",
       "      <th>14</th>\n",
       "      <td>3</td>\n",
       "      <td>n</td>\n",
       "      <td>13.351522</td>\n",
       "    </tr>\n",
       "    <tr>\n",
       "      <th>11</th>\n",
       "      <td>3</td>\n",
       "      <td>E</td>\n",
       "      <td>11.000000</td>\n",
       "    </tr>\n",
       "    <tr>\n",
       "      <th>12</th>\n",
       "      <td>3</td>\n",
       "      <td>F</td>\n",
       "      <td>9.395838</td>\n",
       "    </tr>\n",
       "  </tbody>\n",
       "</table>\n",
       "</div>"
      ],
      "text/plain": [
       "    Pclass Cabin_Symbol        Fare\n",
       "1        1            B  122.383078\n",
       "2        1            C  107.926598\n",
       "6        1            n   70.268157\n",
       "4        1            E   63.464706\n",
       "3        1            D   58.919065\n",
       "0        1            A   41.244314\n",
       "5        1            T   35.500000\n",
       "9        2            F   23.423077\n",
       "10       2            n   21.394537\n",
       "7        2            D   13.595833\n",
       "8        2            E   11.587500\n",
       "13       3            G   14.205000\n",
       "14       3            n   13.351522\n",
       "11       3            E   11.000000\n",
       "12       3            F    9.395838"
      ]
     },
     "execution_count": 87,
     "metadata": {},
     "output_type": "execute_result"
    }
   ],
   "source": [
    "# look to the most expensive cabins \n",
    "df.groupby(['Pclass', 'Cabin_Symbol'], as_index = False).agg({'Fare':'mean'})\\\n",
    ".sort_values(['Pclass', 'Fare'], ascending=[True, False])"
   ]
  },
  {
   "cell_type": "code",
   "execution_count": 88,
   "metadata": {},
   "outputs": [
    {
     "data": {
      "image/png": "[encoded data removed]",
      "text/plain": [
       "<Figure size 864x576 with 2 Axes>"
      ]
     },
     "metadata": {
      "needs_background": "light"
     },
     "output_type": "display_data"
    }
   ],
   "source": [
    "corr_matrix = df.corr()\n",
    "plt.figure(figsize = (12, 8))\n",
    "msk = np.triu(corr_matrix)\n",
    "sns.heatmap(corr_matrix, annot = True, linewidths=1, mask = msk)\n",
    "plt.show()"
   ]
  },
  {
   "cell_type": "code",
   "execution_count": 89,
   "metadata": {},
   "outputs": [
    {
     "data": {
      "image/png": "[encoded data removed]",
      "text/plain": [
       "<Figure size 432x288 with 1 Axes>"
      ]
     },
     "metadata": {
      "needs_background": "light"
     },
     "output_type": "display_data"
    },
    {
     "data": {
      "image/png": "[encoded data removed]",
      "text/plain": [
       "<Figure size 432x288 with 1 Axes>"
      ]
     },
     "metadata": {
      "needs_background": "light"
     },
     "output_type": "display_data"
    }
   ],
   "source": [
    "sns.countplot(df.Pclass)\n",
    "plt.title('Pclass distribution')\n",
    "plt.show()\n",
    "\n",
    "sns.barplot(df.Pclass, df.Survived)\n",
    "plt.title('Pclass Vs Survived')\n",
    "plt.show()"
   ]
  },
  {
   "cell_type": "code",
   "execution_count": 90,
   "metadata": {},
   "outputs": [
    {
     "data": {
      "text/html": [
       "<div>\n",
       "<style scoped>\n",
       "    .dataframe tbody tr th:only-of-type {\n",
       "        vertical-align: middle;\n",
       "    }\n",
       "\n",
       "    .dataframe tbody tr th {\n",
       "        vertical-align: top;\n",
       "    }\n",
       "\n",
       "    .dataframe thead th {\n",
       "        text-align: right;\n",
       "    }\n",
       "</style>\n",
       "<table border=\"1\" class=\"dataframe\">\n",
       "  <thead>\n",
       "    <tr style=\"text-align: right;\">\n",
       "      <th>Survived</th>\n",
       "      <th>0.0</th>\n",
       "      <th>1.0</th>\n",
       "    </tr>\n",
       "    <tr>\n",
       "      <th>Pclass</th>\n",
       "      <th></th>\n",
       "      <th></th>\n",
       "    </tr>\n",
       "  </thead>\n",
       "  <tbody>\n",
       "    <tr>\n",
       "      <th>1</th>\n",
       "      <td>80</td>\n",
       "      <td>136</td>\n",
       "    </tr>\n",
       "    <tr>\n",
       "      <th>2</th>\n",
       "      <td>97</td>\n",
       "      <td>87</td>\n",
       "    </tr>\n",
       "    <tr>\n",
       "      <th>3</th>\n",
       "      <td>372</td>\n",
       "      <td>119</td>\n",
       "    </tr>\n",
       "  </tbody>\n",
       "</table>\n",
       "</div>"
      ],
      "text/plain": [
       "Survived  0.0  1.0\n",
       "Pclass            \n",
       "1          80  136\n",
       "2          97   87\n",
       "3         372  119"
      ]
     },
     "execution_count": 90,
     "metadata": {},
     "output_type": "execute_result"
    }
   ],
   "source": [
    "pd.crosstab(df.Pclass, df.Survived)"
   ]
  },
  {
   "cell_type": "code",
   "execution_count": 91,
   "metadata": {},
   "outputs": [
    {
     "data": {
      "text/plain": [
       "<Figure size 1008x1008 with 0 Axes>"
      ]
     },
     "metadata": {},
     "output_type": "display_data"
    },
    {
     "data": {
      "image/png": "[encoded data removed]",
      "text/plain": [
       "<Figure size 1080x1080 with 42 Axes>"
      ]
     },
     "metadata": {
      "needs_background": "light"
     },
     "output_type": "display_data"
    }
   ],
   "source": [
    "plt.figure(figsize = (14, 14))\n",
    "sns.pairplot(df)\n",
    "plt.show()"
   ]
  },
  {
   "cell_type": "code",
   "execution_count": 92,
   "metadata": {},
   "outputs": [
    {
     "data": {
      "image/png": "[encoded data removed]",
      "text/plain": [
       "<Figure size 432x288 with 1 Axes>"
      ]
     },
     "metadata": {
      "needs_background": "light"
     },
     "output_type": "display_data"
    }
   ],
   "source": [
    "sns.countplot(df.Parch)\n",
    "sns.despine()"
   ]
  },
  {
   "cell_type": "code",
   "execution_count": 93,
   "metadata": {},
   "outputs": [
    {
     "data": {
      "image/png": "[encoded data removed]",
      "text/plain": [
       "<Figure size 432x288 with 1 Axes>"
      ]
     },
     "metadata": {
      "needs_background": "light"
     },
     "output_type": "display_data"
    }
   ],
   "source": [
    "sns.barplot(df.Parch, df.Survived)\n",
    "sns.despine()"
   ]
  },
  {
   "cell_type": "code",
   "execution_count": 94,
   "metadata": {},
   "outputs": [
    {
     "data": {
      "text/plain": [
       "0    1002\n",
       "1     170\n",
       "2     113\n",
       "3       8\n",
       "5       6\n",
       "4       6\n",
       "9       2\n",
       "6       2\n",
       "Name: Parch, dtype: int64"
      ]
     },
     "execution_count": 94,
     "metadata": {},
     "output_type": "execute_result"
    }
   ],
   "source": [
    "df.Parch.value_counts()"
   ]
  },
  {
   "cell_type": "code",
   "execution_count": 95,
   "metadata": {},
   "outputs": [
    {
     "data": {
      "text/html": [
       "<div>\n",
       "<style scoped>\n",
       "    .dataframe tbody tr th:only-of-type {\n",
       "        vertical-align: middle;\n",
       "    }\n",
       "\n",
       "    .dataframe tbody tr th {\n",
       "        vertical-align: top;\n",
       "    }\n",
       "\n",
       "    .dataframe thead th {\n",
       "        text-align: right;\n",
       "    }\n",
       "</style>\n",
       "<table border=\"1\" class=\"dataframe\">\n",
       "  <thead>\n",
       "    <tr style=\"text-align: right;\">\n",
       "      <th>Survived</th>\n",
       "      <th>0.0</th>\n",
       "      <th>1.0</th>\n",
       "    </tr>\n",
       "    <tr>\n",
       "      <th>Parch</th>\n",
       "      <th></th>\n",
       "      <th></th>\n",
       "    </tr>\n",
       "  </thead>\n",
       "  <tbody>\n",
       "    <tr>\n",
       "      <th>0</th>\n",
       "      <td>445</td>\n",
       "      <td>233</td>\n",
       "    </tr>\n",
       "    <tr>\n",
       "      <th>1</th>\n",
       "      <td>53</td>\n",
       "      <td>65</td>\n",
       "    </tr>\n",
       "    <tr>\n",
       "      <th>2</th>\n",
       "      <td>40</td>\n",
       "      <td>40</td>\n",
       "    </tr>\n",
       "    <tr>\n",
       "      <th>3</th>\n",
       "      <td>2</td>\n",
       "      <td>3</td>\n",
       "    </tr>\n",
       "    <tr>\n",
       "      <th>4</th>\n",
       "      <td>4</td>\n",
       "      <td>0</td>\n",
       "    </tr>\n",
       "    <tr>\n",
       "      <th>5</th>\n",
       "      <td>4</td>\n",
       "      <td>1</td>\n",
       "    </tr>\n",
       "    <tr>\n",
       "      <th>6</th>\n",
       "      <td>1</td>\n",
       "      <td>0</td>\n",
       "    </tr>\n",
       "  </tbody>\n",
       "</table>\n",
       "</div>"
      ],
      "text/plain": [
       "Survived  0.0  1.0\n",
       "Parch             \n",
       "0         445  233\n",
       "1          53   65\n",
       "2          40   40\n",
       "3           2    3\n",
       "4           4    0\n",
       "5           4    1\n",
       "6           1    0"
      ]
     },
     "execution_count": 95,
     "metadata": {},
     "output_type": "execute_result"
    }
   ],
   "source": [
    "pd.crosstab(df.Parch, df.Survived)"
   ]
  },
  {
   "cell_type": "code",
   "execution_count": 96,
   "metadata": {},
   "outputs": [
    {
     "data": {
      "image/png": "[encoded data removed]",
      "text/plain": [
       "<Figure size 432x288 with 1 Axes>"
      ]
     },
     "metadata": {
      "needs_background": "light"
     },
     "output_type": "display_data"
    },
    {
     "data": {
      "image/png": "[encoded data removed]",
      "text/plain": [
       "<Figure size 432x288 with 1 Axes>"
      ]
     },
     "metadata": {
      "needs_background": "light"
     },
     "output_type": "display_data"
    }
   ],
   "source": [
    "sns.countplot(df.SibSp)\n",
    "plt.show()\n",
    "\n",
    "sns.barplot(df.SibSp, df.Survived)\n",
    "plt.show()"
   ]
  },
  {
   "cell_type": "code",
   "execution_count": 97,
   "metadata": {},
   "outputs": [
    {
     "data": {
      "text/plain": [
       "0    891\n",
       "1    319\n",
       "2     42\n",
       "4     22\n",
       "3     20\n",
       "8      9\n",
       "5      6\n",
       "Name: SibSp, dtype: int64"
      ]
     },
     "execution_count": 97,
     "metadata": {},
     "output_type": "execute_result"
    }
   ],
   "source": [
    "df.SibSp.value_counts()"
   ]
  },
  {
   "cell_type": "code",
   "execution_count": 98,
   "metadata": {},
   "outputs": [
    {
     "data": {
      "text/html": [
       "<div>\n",
       "<style scoped>\n",
       "    .dataframe tbody tr th:only-of-type {\n",
       "        vertical-align: middle;\n",
       "    }\n",
       "\n",
       "    .dataframe tbody tr th {\n",
       "        vertical-align: top;\n",
       "    }\n",
       "\n",
       "    .dataframe thead th {\n",
       "        text-align: right;\n",
       "    }\n",
       "</style>\n",
       "<table border=\"1\" class=\"dataframe\">\n",
       "  <thead>\n",
       "    <tr style=\"text-align: right;\">\n",
       "      <th>Survived</th>\n",
       "      <th>0.0</th>\n",
       "      <th>1.0</th>\n",
       "    </tr>\n",
       "    <tr>\n",
       "      <th>SibSp</th>\n",
       "      <th></th>\n",
       "      <th></th>\n",
       "    </tr>\n",
       "  </thead>\n",
       "  <tbody>\n",
       "    <tr>\n",
       "      <th>0</th>\n",
       "      <td>398</td>\n",
       "      <td>210</td>\n",
       "    </tr>\n",
       "    <tr>\n",
       "      <th>1</th>\n",
       "      <td>97</td>\n",
       "      <td>112</td>\n",
       "    </tr>\n",
       "    <tr>\n",
       "      <th>2</th>\n",
       "      <td>15</td>\n",
       "      <td>13</td>\n",
       "    </tr>\n",
       "    <tr>\n",
       "      <th>3</th>\n",
       "      <td>12</td>\n",
       "      <td>4</td>\n",
       "    </tr>\n",
       "    <tr>\n",
       "      <th>4</th>\n",
       "      <td>15</td>\n",
       "      <td>3</td>\n",
       "    </tr>\n",
       "    <tr>\n",
       "      <th>5</th>\n",
       "      <td>5</td>\n",
       "      <td>0</td>\n",
       "    </tr>\n",
       "    <tr>\n",
       "      <th>8</th>\n",
       "      <td>7</td>\n",
       "      <td>0</td>\n",
       "    </tr>\n",
       "  </tbody>\n",
       "</table>\n",
       "</div>"
      ],
      "text/plain": [
       "Survived  0.0  1.0\n",
       "SibSp             \n",
       "0         398  210\n",
       "1          97  112\n",
       "2          15   13\n",
       "3          12    4\n",
       "4          15    3\n",
       "5           5    0\n",
       "8           7    0"
      ]
     },
     "execution_count": 98,
     "metadata": {},
     "output_type": "execute_result"
    }
   ],
   "source": [
    "pd.crosstab(df.SibSp, df.Survived)"
   ]
  },
  {
   "cell_type": "code",
   "execution_count": 99,
   "metadata": {},
   "outputs": [],
   "source": [
    "df['Exists_Parch'] = df.Parch.apply(lambda x: 1 if x>0 else 0)\n",
    "df['Exists_SibSp'] = df.SibSp.apply(lambda x: 1 if x>0 else 0)"
   ]
  },
  {
   "cell_type": "code",
   "execution_count": 100,
   "metadata": {},
   "outputs": [
    {
     "data": {
      "image/png": "[encoded data removed]",
      "text/plain": [
       "<Figure size 432x288 with 1 Axes>"
      ]
     },
     "metadata": {
      "needs_background": "light"
     },
     "output_type": "display_data"
    },
    {
     "data": {
      "image/png": "[encoded data removed]",
      "text/plain": [
       "<Figure size 432x288 with 1 Axes>"
      ]
     },
     "metadata": {
      "needs_background": "light"
     },
     "output_type": "display_data"
    },
    {
     "data": {
      "image/png": "[encoded data removed]",
      "text/plain": [
       "<Figure size 432x288 with 1 Axes>"
      ]
     },
     "metadata": {
      "needs_background": "light"
     },
     "output_type": "display_data"
    },
    {
     "data": {
      "image/png": "[encoded data removed]",
      "text/plain": [
       "<Figure size 432x288 with 1 Axes>"
      ]
     },
     "metadata": {
      "needs_background": "light"
     },
     "output_type": "display_data"
    }
   ],
   "source": [
    "sns.countplot(df.Exists_Parch)\n",
    "plt.title('Exists Parch Distribution')\n",
    "plt.show()\n",
    "\n",
    "sns.barplot(df.Exists_Parch, df.Survived)\n",
    "plt.title('Exists Parch Vs Survived')\n",
    "plt.show()\n",
    "\n",
    "sns.countplot(df.Exists_SibSp)\n",
    "plt.title('Exists SibSp Distribution')\n",
    "plt.show()\n",
    "\n",
    "sns.barplot(df.Exists_SibSp, df.Survived)\n",
    "plt.title('Exists SibSp Vs Survived')\n",
    "plt.show()"
   ]
  },
  {
   "cell_type": "code",
   "execution_count": 101,
   "metadata": {},
   "outputs": [
    {
     "data": {
      "text/html": [
       "<div>\n",
       "<style scoped>\n",
       "    .dataframe tbody tr th:only-of-type {\n",
       "        vertical-align: middle;\n",
       "    }\n",
       "\n",
       "    .dataframe tbody tr th {\n",
       "        vertical-align: top;\n",
       "    }\n",
       "\n",
       "    .dataframe thead th {\n",
       "        text-align: right;\n",
       "    }\n",
       "</style>\n",
       "<table border=\"1\" class=\"dataframe\">\n",
       "  <thead>\n",
       "    <tr style=\"text-align: right;\">\n",
       "      <th>Survived</th>\n",
       "      <th>0.0</th>\n",
       "      <th>1.0</th>\n",
       "    </tr>\n",
       "    <tr>\n",
       "      <th>Exists_SibSp</th>\n",
       "      <th></th>\n",
       "      <th></th>\n",
       "    </tr>\n",
       "  </thead>\n",
       "  <tbody>\n",
       "    <tr>\n",
       "      <th>0</th>\n",
       "      <td>398</td>\n",
       "      <td>210</td>\n",
       "    </tr>\n",
       "    <tr>\n",
       "      <th>1</th>\n",
       "      <td>151</td>\n",
       "      <td>132</td>\n",
       "    </tr>\n",
       "  </tbody>\n",
       "</table>\n",
       "</div>"
      ],
      "text/plain": [
       "Survived      0.0  1.0\n",
       "Exists_SibSp          \n",
       "0             398  210\n",
       "1             151  132"
      ]
     },
     "execution_count": 101,
     "metadata": {},
     "output_type": "execute_result"
    }
   ],
   "source": [
    "pd.crosstab(df.Exists_SibSp, df.Survived)"
   ]
  },
  {
   "cell_type": "code",
   "execution_count": 102,
   "metadata": {},
   "outputs": [
    {
     "data": {
      "text/html": [
       "<div>\n",
       "<style scoped>\n",
       "    .dataframe tbody tr th:only-of-type {\n",
       "        vertical-align: middle;\n",
       "    }\n",
       "\n",
       "    .dataframe tbody tr th {\n",
       "        vertical-align: top;\n",
       "    }\n",
       "\n",
       "    .dataframe thead th {\n",
       "        text-align: right;\n",
       "    }\n",
       "</style>\n",
       "<table border=\"1\" class=\"dataframe\">\n",
       "  <thead>\n",
       "    <tr style=\"text-align: right;\">\n",
       "      <th>Survived</th>\n",
       "      <th>0.0</th>\n",
       "      <th>1.0</th>\n",
       "    </tr>\n",
       "    <tr>\n",
       "      <th>Exists_Parch</th>\n",
       "      <th></th>\n",
       "      <th></th>\n",
       "    </tr>\n",
       "  </thead>\n",
       "  <tbody>\n",
       "    <tr>\n",
       "      <th>0</th>\n",
       "      <td>445</td>\n",
       "      <td>233</td>\n",
       "    </tr>\n",
       "    <tr>\n",
       "      <th>1</th>\n",
       "      <td>104</td>\n",
       "      <td>109</td>\n",
       "    </tr>\n",
       "  </tbody>\n",
       "</table>\n",
       "</div>"
      ],
      "text/plain": [
       "Survived      0.0  1.0\n",
       "Exists_Parch          \n",
       "0             445  233\n",
       "1             104  109"
      ]
     },
     "execution_count": 102,
     "metadata": {},
     "output_type": "execute_result"
    }
   ],
   "source": [
    "pd.crosstab(df.Exists_Parch, df.Survived)"
   ]
  },
  {
   "cell_type": "markdown",
   "metadata": {},
   "source": [
    "## Preprocessing"
   ]
  },
  {
   "cell_type": "code",
   "execution_count": 103,
   "metadata": {},
   "outputs": [],
   "source": [
    "df = df.drop(['Name', 'Ticket'], axis = 1)"
   ]
  },
  {
   "cell_type": "code",
   "execution_count": 104,
   "metadata": {},
   "outputs": [
    {
     "data": {
      "text/plain": [
       "Survived         418\n",
       "Pclass             0\n",
       "Sex                0\n",
       "Age              263\n",
       "SibSp              0\n",
       "Parch              0\n",
       "Fare               1\n",
       "Cabin           1014\n",
       "Embarked           2\n",
       "Age_category     263\n",
       "Cabin_Symbol       0\n",
       "Exists_Parch       0\n",
       "Exists_SibSp       0\n",
       "dtype: int64"
      ]
     },
     "execution_count": 104,
     "metadata": {},
     "output_type": "execute_result"
    }
   ],
   "source": [
    "df.isna().sum()"
   ]
  },
  {
   "cell_type": "code",
   "execution_count": 105,
   "metadata": {},
   "outputs": [],
   "source": [
    "df.Age = df.Age.fillna(df.Age.median())\n",
    "#df.Age = df.Age.fillna(0)\n",
    "\n",
    "#df['Age_category'] = pd.cut(df.Age, [0, 14, 40, 80], labels = ['child', 'adult', 'old'])\n",
    "#df['Age_category'] = pd.cut(df.Age, [0, 10, 20, 50, 80], labels = ['child', 'teen', 'adult', 'old'])\n",
    "df['Age_category'] = pd.cut(df.Age, [0, 15, 25, 50, 80], labels = ['child', 'youth', 'adult', 'old'])\n",
    "\n",
    "df.Embarked = df.Embarked.fillna(df.Embarked.mode()[0])\n",
    "\n",
    "df.Fare = df.Fare.fillna(df.Fare.mean())"
   ]
  },
  {
   "cell_type": "code",
   "execution_count": 112,
   "metadata": {},
   "outputs": [
    {
     "data": {
      "text/html": [
       "<div>\n",
       "<style scoped>\n",
       "    .dataframe tbody tr th:only-of-type {\n",
       "        vertical-align: middle;\n",
       "    }\n",
       "\n",
       "    .dataframe tbody tr th {\n",
       "        vertical-align: top;\n",
       "    }\n",
       "\n",
       "    .dataframe thead th {\n",
       "        text-align: right;\n",
       "    }\n",
       "</style>\n",
       "<table border=\"1\" class=\"dataframe\">\n",
       "  <thead>\n",
       "    <tr style=\"text-align: right;\">\n",
       "      <th></th>\n",
       "      <th></th>\n",
       "      <th></th>\n",
       "      <th>Survived</th>\n",
       "    </tr>\n",
       "    <tr>\n",
       "      <th>Pclass</th>\n",
       "      <th>Cabin_Symbol</th>\n",
       "      <th>Fare_bin</th>\n",
       "      <th></th>\n",
       "    </tr>\n",
       "  </thead>\n",
       "  <tbody>\n",
       "    <tr>\n",
       "      <th rowspan=\"5\" valign=\"top\">1</th>\n",
       "      <th>C</th>\n",
       "      <th>60</th>\n",
       "      <td>14</td>\n",
       "    </tr>\n",
       "    <tr>\n",
       "      <th>B</th>\n",
       "      <th>60</th>\n",
       "      <td>13</td>\n",
       "    </tr>\n",
       "    <tr>\n",
       "      <th>D</th>\n",
       "      <th>60</th>\n",
       "      <td>13</td>\n",
       "    </tr>\n",
       "    <tr>\n",
       "      <th>C</th>\n",
       "      <th>30</th>\n",
       "      <td>12</td>\n",
       "    </tr>\n",
       "    <tr>\n",
       "      <th>n</th>\n",
       "      <th>0</th>\n",
       "      <td>12</td>\n",
       "    </tr>\n",
       "  </tbody>\n",
       "</table>\n",
       "</div>"
      ],
      "text/plain": [
       "                              Survived\n",
       "Pclass Cabin_Symbol Fare_bin          \n",
       "1      C            60              14\n",
       "       B            60              13\n",
       "       D            60              13\n",
       "       C            30              12\n",
       "       n            0               12"
      ]
     },
     "execution_count": 112,
     "metadata": {},
     "output_type": "execute_result"
    }
   ],
   "source": [
    "# Price cuts depending on their class and cabins\n",
    "pd.set_option('display.max_rows', None)\n",
    "df['Fare_bin'] = pd.cut(\n",
    "    df.Fare, [i for i in range(round(df.Fare.min()), round(df.Fare.max()), 30)],\n",
    "    labels=[i*30 for i in range(17)]\n",
    ")\n",
    "#we do this in order to find out in what interval the prices \n",
    "#for null-cabins are usually found, and find the most common known \n",
    "#cab with the same price of the interval, and then fill in the empty values\n",
    "df.groupby(['Pclass', 'Cabin_Symbol', 'Fare_bin'])\\\n",
    ".agg({'Survived':'count'})\\\n",
    ".sort_values(['Pclass', 'Survived'], ascending = [True, False])\\\n",
    ".head()\n",
    "# to look it fully erase head()"
   ]
  },
  {
   "cell_type": "code",
   "execution_count": 113,
   "metadata": {},
   "outputs": [],
   "source": [
    "df_pclass1 = df[df.Pclass == 1]\n",
    "df_pclass2 = df[df.Pclass == 2]\n",
    "df_pclass3 = df[df.Pclass == 3]\n",
    "\n",
    "df_pclass1.Cabin = df_pclass1.Cabin.fillna('C')\n",
    "df_pclass2.Cabin = df_pclass2.Cabin.fillna('F')\n",
    "df_pclass3.Cabin = df_pclass3.Cabin.fillna('F')\n",
    "\n",
    "df[df.Pclass == 1] = df_pclass1\n",
    "df[df.Pclass == 2] = df_pclass2\n",
    "df[df.Pclass == 3] = df_pclass3"
   ]
  },
  {
   "cell_type": "code",
   "execution_count": 114,
   "metadata": {},
   "outputs": [
    {
     "data": {
      "text/plain": [
       "Survived        418\n",
       "Pclass            0\n",
       "Sex               0\n",
       "Age               0\n",
       "SibSp             0\n",
       "Parch             0\n",
       "Fare              0\n",
       "Cabin             0\n",
       "Embarked          0\n",
       "Age_category      0\n",
       "Cabin_Symbol      0\n",
       "Exists_Parch      0\n",
       "Exists_SibSp      0\n",
       "Fare_bin         21\n",
       "dtype: int64"
      ]
     },
     "execution_count": 114,
     "metadata": {},
     "output_type": "execute_result"
    }
   ],
   "source": [
    "df.isna().sum()"
   ]
  },
  {
   "cell_type": "code",
   "execution_count": 115,
   "metadata": {},
   "outputs": [],
   "source": [
    "df = df.drop(['Cabin_Symbol', 'Fare_bin'], axis = 1)\n",
    "\n",
    "df.Cabin = df.Cabin.apply(lambda x: str(x)[0])\n",
    "#df = df.drop('Cabin', axis=1)\n",
    "df.Pclass = df.Pclass.astype(str)"
   ]
  },
  {
   "cell_type": "code",
   "execution_count": 44,
   "metadata": {},
   "outputs": [
    {
     "data": {
      "text/plain": [
       "['Pclass', 'Embarked', 'Age_category']"
      ]
     },
     "execution_count": 44,
     "metadata": {},
     "output_type": "execute_result"
    }
   ],
   "source": [
    "# creating new features based on this columns\n",
    "categorical_columns = []\n",
    "for col in df.columns:\n",
    "    if df[col].dtype != int and df[col].dtype != float:\n",
    "        categorical_columns.append(col)\n",
    "categorical_columns.remove('Sex')\n",
    "categorical_columns"
   ]
  },
  {
   "cell_type": "code",
   "execution_count": 45,
   "metadata": {},
   "outputs": [],
   "source": [
    "for col in categorical_columns:\n",
    "    df = pd.get_dummies(df, columns = [col])"
   ]
  },
  {
   "cell_type": "code",
   "execution_count": 46,
   "metadata": {},
   "outputs": [
    {
     "data": {
      "text/html": [
       "<div>\n",
       "<style scoped>\n",
       "    .dataframe tbody tr th:only-of-type {\n",
       "        vertical-align: middle;\n",
       "    }\n",
       "\n",
       "    .dataframe tbody tr th {\n",
       "        vertical-align: top;\n",
       "    }\n",
       "\n",
       "    .dataframe thead th {\n",
       "        text-align: right;\n",
       "    }\n",
       "</style>\n",
       "<table border=\"1\" class=\"dataframe\">\n",
       "  <thead>\n",
       "    <tr style=\"text-align: right;\">\n",
       "      <th></th>\n",
       "      <th>Survived</th>\n",
       "      <th>Sex</th>\n",
       "      <th>Age</th>\n",
       "      <th>SibSp</th>\n",
       "      <th>Parch</th>\n",
       "      <th>Fare</th>\n",
       "      <th>Exists_Parch</th>\n",
       "      <th>Exists_SibSp</th>\n",
       "      <th>Pclass_1</th>\n",
       "      <th>Pclass_2</th>\n",
       "      <th>Pclass_3</th>\n",
       "      <th>Embarked_C</th>\n",
       "      <th>Embarked_Q</th>\n",
       "      <th>Embarked_S</th>\n",
       "      <th>Age_category_child</th>\n",
       "      <th>Age_category_youth</th>\n",
       "      <th>Age_category_adult</th>\n",
       "      <th>Age_category_old</th>\n",
       "    </tr>\n",
       "  </thead>\n",
       "  <tbody>\n",
       "    <tr>\n",
       "      <th>0</th>\n",
       "      <td>0.0</td>\n",
       "      <td>0</td>\n",
       "      <td>22.0</td>\n",
       "      <td>1</td>\n",
       "      <td>0</td>\n",
       "      <td>7.2500</td>\n",
       "      <td>0</td>\n",
       "      <td>1</td>\n",
       "      <td>0</td>\n",
       "      <td>0</td>\n",
       "      <td>1</td>\n",
       "      <td>0</td>\n",
       "      <td>0</td>\n",
       "      <td>1</td>\n",
       "      <td>0</td>\n",
       "      <td>1</td>\n",
       "      <td>0</td>\n",
       "      <td>0</td>\n",
       "    </tr>\n",
       "    <tr>\n",
       "      <th>1</th>\n",
       "      <td>1.0</td>\n",
       "      <td>1</td>\n",
       "      <td>38.0</td>\n",
       "      <td>1</td>\n",
       "      <td>0</td>\n",
       "      <td>71.2833</td>\n",
       "      <td>0</td>\n",
       "      <td>1</td>\n",
       "      <td>1</td>\n",
       "      <td>0</td>\n",
       "      <td>0</td>\n",
       "      <td>1</td>\n",
       "      <td>0</td>\n",
       "      <td>0</td>\n",
       "      <td>0</td>\n",
       "      <td>0</td>\n",
       "      <td>1</td>\n",
       "      <td>0</td>\n",
       "    </tr>\n",
       "    <tr>\n",
       "      <th>2</th>\n",
       "      <td>1.0</td>\n",
       "      <td>1</td>\n",
       "      <td>26.0</td>\n",
       "      <td>0</td>\n",
       "      <td>0</td>\n",
       "      <td>7.9250</td>\n",
       "      <td>0</td>\n",
       "      <td>0</td>\n",
       "      <td>0</td>\n",
       "      <td>0</td>\n",
       "      <td>1</td>\n",
       "      <td>0</td>\n",
       "      <td>0</td>\n",
       "      <td>1</td>\n",
       "      <td>0</td>\n",
       "      <td>0</td>\n",
       "      <td>1</td>\n",
       "      <td>0</td>\n",
       "    </tr>\n",
       "    <tr>\n",
       "      <th>3</th>\n",
       "      <td>1.0</td>\n",
       "      <td>1</td>\n",
       "      <td>35.0</td>\n",
       "      <td>1</td>\n",
       "      <td>0</td>\n",
       "      <td>53.1000</td>\n",
       "      <td>0</td>\n",
       "      <td>1</td>\n",
       "      <td>1</td>\n",
       "      <td>0</td>\n",
       "      <td>0</td>\n",
       "      <td>0</td>\n",
       "      <td>0</td>\n",
       "      <td>1</td>\n",
       "      <td>0</td>\n",
       "      <td>0</td>\n",
       "      <td>1</td>\n",
       "      <td>0</td>\n",
       "    </tr>\n",
       "    <tr>\n",
       "      <th>4</th>\n",
       "      <td>0.0</td>\n",
       "      <td>0</td>\n",
       "      <td>35.0</td>\n",
       "      <td>0</td>\n",
       "      <td>0</td>\n",
       "      <td>8.0500</td>\n",
       "      <td>0</td>\n",
       "      <td>0</td>\n",
       "      <td>0</td>\n",
       "      <td>0</td>\n",
       "      <td>1</td>\n",
       "      <td>0</td>\n",
       "      <td>0</td>\n",
       "      <td>1</td>\n",
       "      <td>0</td>\n",
       "      <td>0</td>\n",
       "      <td>1</td>\n",
       "      <td>0</td>\n",
       "    </tr>\n",
       "  </tbody>\n",
       "</table>\n",
       "</div>"
      ],
      "text/plain": [
       "   Survived  Sex   Age  SibSp  Parch     Fare  Exists_Parch  Exists_SibSp  \\\n",
       "0       0.0    0  22.0      1      0   7.2500             0             1   \n",
       "1       1.0    1  38.0      1      0  71.2833             0             1   \n",
       "2       1.0    1  26.0      0      0   7.9250             0             0   \n",
       "3       1.0    1  35.0      1      0  53.1000             0             1   \n",
       "4       0.0    0  35.0      0      0   8.0500             0             0   \n",
       "\n",
       "   Pclass_1  Pclass_2  Pclass_3  Embarked_C  Embarked_Q  Embarked_S  \\\n",
       "0         0         0         1           0           0           1   \n",
       "1         1         0         0           1           0           0   \n",
       "2         0         0         1           0           0           1   \n",
       "3         1         0         0           0           0           1   \n",
       "4         0         0         1           0           0           1   \n",
       "\n",
       "   Age_category_child  Age_category_youth  Age_category_adult  \\\n",
       "0                   0                   1                   0   \n",
       "1                   0                   0                   1   \n",
       "2                   0                   0                   1   \n",
       "3                   0                   0                   1   \n",
       "4                   0                   0                   1   \n",
       "\n",
       "   Age_category_old  \n",
       "0                 0  \n",
       "1                 0  \n",
       "2                 0  \n",
       "3                 0  \n",
       "4                 0  "
      ]
     },
     "execution_count": 46,
     "metadata": {},
     "output_type": "execute_result"
    }
   ],
   "source": [
    "df.Sex = pd.factorize(df.Sex)[0]\n",
    "df.head()"
   ]
  },
  {
   "cell_type": "code",
   "execution_count": 47,
   "metadata": {},
   "outputs": [
    {
     "name": "stdout",
     "output_type": "stream",
     "text": [
      "(1309, 18)\n",
      "(891, 12)\n",
      "(418, 11)\n"
     ]
    }
   ],
   "source": [
    "print(df.shape)\n",
    "print(train.shape)\n",
    "print(test.shape)"
   ]
  },
  {
   "cell_type": "markdown",
   "metadata": {},
   "source": [
    "## Model selecting"
   ]
  },
  {
   "cell_type": "code",
   "execution_count": 55,
   "metadata": {},
   "outputs": [],
   "source": [
    "X = df.drop(['Survived'], axis = 1).iloc[:891]\n",
    "y = df.Survived.iloc[:891]\n",
    "\n",
    "X_train, X_val, y_train, y_val = train_test_split(X, y, test_size=0.3, random_state=42)\n",
    "\n",
    "X_test = df.drop('Survived', axis = 1).iloc[891:]\n",
    "\n",
    "sc = StandardScaler()\n",
    "mm = MinMaxScaler()\n",
    "\n",
    "X_train_scale = sc.fit_transform(X_train)\n",
    "X_val_scale = sc.transform(X_val)\n",
    "\n",
    "X_train_mm = mm.fit_transform(X_train)\n",
    "X_val_mm = mm.transform(X_val)"
   ]
  },
  {
   "cell_type": "code",
   "execution_count": 56,
   "metadata": {},
   "outputs": [
    {
     "name": "stdout",
     "output_type": "stream",
     "text": [
      "              precision    recall  f1-score   support\n",
      "\n",
      "         0.0       0.81      0.87      0.84       157\n",
      "         1.0       0.79      0.71      0.75       111\n",
      "\n",
      "    accuracy                           0.80       268\n",
      "   macro avg       0.80      0.79      0.79       268\n",
      "weighted avg       0.80      0.80      0.80       268\n",
      "\n",
      "              precision    recall  f1-score   support\n",
      "\n",
      "         0.0       0.81      0.87      0.84       157\n",
      "         1.0       0.79      0.71      0.75       111\n",
      "\n",
      "    accuracy                           0.80       268\n",
      "   macro avg       0.80      0.79      0.79       268\n",
      "weighted avg       0.80      0.80      0.80       268\n",
      "\n",
      "              precision    recall  f1-score   support\n",
      "\n",
      "         0.0       0.81      0.87      0.84       157\n",
      "         1.0       0.80      0.71      0.75       111\n",
      "\n",
      "    accuracy                           0.81       268\n",
      "   macro avg       0.80      0.79      0.80       268\n",
      "weighted avg       0.81      0.81      0.80       268\n",
      "\n"
     ]
    }
   ],
   "source": [
    "pred_log_l2 = LogisticRegression(penalty='l2').fit(X_train, y_train).predict(X_val)\n",
    "print(classification_report(y_val, pred_log_l2))\n",
    "\n",
    "\n",
    "pred_log_l2_sc = LogisticRegression(penalty='l2').fit(X_train_scale, y_train).predict(X_val_scale)\n",
    "print(classification_report(y_val, pred_log_l2_sc))\n",
    "\n",
    "pred_log_l2_mm = LogisticRegression(penalty='l2').fit(X_train_mm, y_train).predict(X_val_mm)\n",
    "print(classification_report(y_val, pred_log_l2_mm))"
   ]
  },
  {
   "cell_type": "code",
   "execution_count": 57,
   "metadata": {},
   "outputs": [
    {
     "name": "stdout",
     "output_type": "stream",
     "text": [
      "              precision    recall  f1-score   support\n",
      "\n",
      "         0.0       0.81      0.87      0.84       157\n",
      "         1.0       0.80      0.70      0.75       111\n",
      "\n",
      "    accuracy                           0.80       268\n",
      "   macro avg       0.80      0.79      0.79       268\n",
      "weighted avg       0.80      0.80      0.80       268\n",
      "\n",
      "              precision    recall  f1-score   support\n",
      "\n",
      "         0.0       0.81      0.87      0.84       157\n",
      "         1.0       0.80      0.70      0.75       111\n",
      "\n",
      "    accuracy                           0.80       268\n",
      "   macro avg       0.80      0.79      0.79       268\n",
      "weighted avg       0.80      0.80      0.80       268\n",
      "\n",
      "              precision    recall  f1-score   support\n",
      "\n",
      "         0.0       0.80      0.90      0.84       157\n",
      "         1.0       0.82      0.68      0.74       111\n",
      "\n",
      "    accuracy                           0.81       268\n",
      "   macro avg       0.81      0.79      0.79       268\n",
      "weighted avg       0.81      0.81      0.80       268\n",
      "\n"
     ]
    }
   ],
   "source": [
    "pred_log_l1 = LogisticRegression(penalty='l1', solver='liblinear').fit(X_train, y_train).predict(X_val)\n",
    "print(classification_report(y_val, pred_log_l1))\n",
    "\n",
    "pred_log_l1_sc = LogisticRegression(penalty='l1', solver='liblinear').fit(X_train_scale, y_train).predict(X_val_scale)\n",
    "print(classification_report(y_val, pred_log_l1_sc))\n",
    "\n",
    "pred_log_l1_mm = LogisticRegression(C = 0.1, penalty='l1', solver='liblinear').fit(X_train_mm, y_train).predict(X_val_mm)\n",
    "print(classification_report(y_val, pred_log_l1_mm))"
   ]
  },
  {
   "cell_type": "code",
   "execution_count": 58,
   "metadata": {},
   "outputs": [
    {
     "name": "stdout",
     "output_type": "stream",
     "text": [
      "              precision    recall  f1-score   support\n",
      "\n",
      "         0.0       0.81      0.87      0.84       157\n",
      "         1.0       0.80      0.70      0.75       111\n",
      "\n",
      "    accuracy                           0.80       268\n",
      "   macro avg       0.80      0.79      0.79       268\n",
      "weighted avg       0.80      0.80      0.80       268\n",
      "\n",
      "              precision    recall  f1-score   support\n",
      "\n",
      "         0.0       0.81      0.86      0.84       157\n",
      "         1.0       0.78      0.72      0.75       111\n",
      "\n",
      "    accuracy                           0.80       268\n",
      "   macro avg       0.80      0.79      0.79       268\n",
      "weighted avg       0.80      0.80      0.80       268\n",
      "\n",
      "              precision    recall  f1-score   support\n",
      "\n",
      "         0.0       0.81      0.85      0.83       157\n",
      "         1.0       0.77      0.71      0.74       111\n",
      "\n",
      "    accuracy                           0.79       268\n",
      "   macro avg       0.79      0.78      0.79       268\n",
      "weighted avg       0.79      0.79      0.79       268\n",
      "\n"
     ]
    }
   ],
   "source": [
    "pred_bag = BaggingClassifier(base_estimator=LogisticRegression(penalty='l1', solver='liblinear')).fit(X_train, y_train).predict(X_val)\n",
    "print(classification_report(y_val, pred_bag))\n",
    "\n",
    "pred_bag = BaggingClassifier(base_estimator=LogisticRegression(penalty='l1', solver='liblinear')).fit(X_train_mm, y_train).predict(X_val_mm)\n",
    "print(classification_report(y_val, pred_bag))\n",
    "\n",
    "pred_bag = BaggingClassifier(base_estimator=LogisticRegression(penalty='l1', solver='liblinear')).fit(X_train_scale, y_train).predict(X_val_scale)\n",
    "print(classification_report(y_val, pred_bag))"
   ]
  },
  {
   "cell_type": "code",
   "execution_count": 59,
   "metadata": {},
   "outputs": [],
   "source": [
    "model = Pipeline(steps = [('Scale', StandardScaler()),\n",
    "                         ('Model', RandomForestClassifier())])\n",
    "params = {\n",
    " 'Model__max_depth': [1, 3, 5, 7],\n",
    " 'Model__max_features': [3, 5, 7],\n",
    " 'Model__n_estimators': [10, 50, 100],\n",
    " 'Model__criterion' : [\"gini\", \"entropy\"],\n",
    " 'Scale': [MinMaxScaler(), StandardScaler()]\n",
    "}\n",
    "\n",
    "\n",
    "grid = GridSearchCV(model, param_grid=params)\n",
    "rfc = grid.fit(X_train, y_train)"
   ]
  },
  {
   "cell_type": "code",
   "execution_count": 60,
   "metadata": {},
   "outputs": [
    {
     "data": {
      "text/plain": [
       "Pipeline(steps=[('Scale', MinMaxScaler()),\n",
       "                ('Model',\n",
       "                 RandomForestClassifier(criterion='entropy', max_depth=5,\n",
       "                                        max_features=7, n_estimators=50))])"
      ]
     },
     "execution_count": 60,
     "metadata": {},
     "output_type": "execute_result"
    }
   ],
   "source": [
    "rfc.best_estimator_"
   ]
  },
  {
   "cell_type": "code",
   "execution_count": 61,
   "metadata": {},
   "outputs": [
    {
     "name": "stdout",
     "output_type": "stream",
     "text": [
      "              precision    recall  f1-score   support\n",
      "\n",
      "         0.0       0.77      0.06      0.12       157\n",
      "         1.0       0.42      0.97      0.59       111\n",
      "\n",
      "    accuracy                           0.44       268\n",
      "   macro avg       0.60      0.52      0.35       268\n",
      "weighted avg       0.63      0.44      0.31       268\n",
      "\n"
     ]
    }
   ],
   "source": [
    "pred_rf = rfc.best_estimator_.predict(X_val_scale)\n",
    "print(classification_report(y_val, pred_rf))"
   ]
  },
  {
   "cell_type": "code",
   "execution_count": 64,
   "metadata": {},
   "outputs": [
    {
     "data": {
      "image/png": "[encoded data removed]",
      "text/plain": [
       "<Figure size 432x288 with 1 Axes>"
      ]
     },
     "metadata": {
      "needs_background": "light"
     },
     "output_type": "display_data"
    },
    {
     "data": {
      "image/png": "[encoded data removed]",
      "text/plain": [
       "<Figure size 432x288 with 1 Axes>"
      ]
     },
     "metadata": {
      "needs_background": "light"
     },
     "output_type": "display_data"
    },
    {
     "data": {
      "image/png": "[encoded data removed]",
      "text/plain": [
       "<Figure size 432x288 with 1 Axes>"
      ]
     },
     "metadata": {
      "needs_background": "light"
     },
     "output_type": "display_data"
    },
    {
     "data": {
      "image/png": "[encoded data removed]",
      "text/plain": [
       "<Figure size 432x288 with 1 Axes>"
      ]
     },
     "metadata": {
      "needs_background": "light"
     },
     "output_type": "display_data"
    }
   ],
   "source": [
    "from sklearn.metrics import accuracy_score, precision_score, recall_score, f1_score\n",
    "accuracy = []\n",
    "precision = []\n",
    "recall = []\n",
    "f_value = []\n",
    "for i in range(1, len(df.columns)):\n",
    "    pca = PCA(n_components=i)\n",
    "    X_train_pca = pca.fit_transform(X_train)\n",
    "    X_val_pca = pca.transform(X_val)\n",
    "    pred_log_pca = LogisticRegression()\\\n",
    "    .fit(X_train_pca, y_train).predict(X_val_pca)\n",
    "    accuracy.append(accuracy_score(y_val, pred_log_pca))\n",
    "    recall.append(recall_score(y_val, pred_log_pca))\n",
    "    precision.append(precision_score(y_val, pred_log_pca))\n",
    "    f_value.append(f1_score(y_val, pred_log_pca))\n",
    "\n",
    "plt.plot(accuracy, label = round(max(accuracy), 2))\n",
    "plt.title('Accuracy')\n",
    "plt.xlabel('Number of Components')\n",
    "plt.legend(loc = 'best')\n",
    "plt.show()\n",
    "plt.plot(recall, label = round(max(recall), 2))\n",
    "plt.title('Recall')\n",
    "plt.xlabel('Number of Components')\n",
    "plt.legend(loc = 'best')\n",
    "plt.show()\n",
    "plt.plot(precision, label = round(max(precision), 2))\n",
    "plt.title('Precision')\n",
    "plt.xlabel('Number of Components')\n",
    "plt.legend(loc = 'best')\n",
    "plt.show()\n",
    "plt.plot(f_value, label = round(max(f_value), 2))\n",
    "plt.title('F1 score')\n",
    "plt.xlabel('Number of Components')\n",
    "plt.legend(loc = 'best')\n",
    "plt.show()"
   ]
  },
  {
   "cell_type": "code",
   "execution_count": 62,
   "metadata": {},
   "outputs": [
    {
     "name": "stdout",
     "output_type": "stream",
     "text": [
      "[18:51:13] WARNING: ../src/learner.cc:1061: Starting in XGBoost 1.3.0, the default evaluation metric used with the objective 'binary:logistic' was changed from 'error' to 'logloss'. Explicitly set eval_metric if you'd like to restore the old behavior.\n",
      "              precision    recall  f1-score   support\n",
      "\n",
      "         0.0       0.81      0.90      0.85       157\n",
      "         1.0       0.83      0.70      0.76       111\n",
      "\n",
      "    accuracy                           0.82       268\n",
      "   macro avg       0.82      0.80      0.81       268\n",
      "weighted avg       0.82      0.82      0.81       268\n",
      "\n",
      "[18:51:14] WARNING: ../src/learner.cc:1061: Starting in XGBoost 1.3.0, the default evaluation metric used with the objective 'binary:logistic' was changed from 'error' to 'logloss'. Explicitly set eval_metric if you'd like to restore the old behavior.\n",
      "              precision    recall  f1-score   support\n",
      "\n",
      "         0.0       0.81      0.90      0.85       157\n",
      "         1.0       0.83      0.70      0.76       111\n",
      "\n",
      "    accuracy                           0.82       268\n",
      "   macro avg       0.82      0.80      0.81       268\n",
      "weighted avg       0.82      0.82      0.81       268\n",
      "\n",
      "[18:51:14] WARNING: ../src/learner.cc:1061: Starting in XGBoost 1.3.0, the default evaluation metric used with the objective 'binary:logistic' was changed from 'error' to 'logloss'. Explicitly set eval_metric if you'd like to restore the old behavior.\n",
      "              precision    recall  f1-score   support\n",
      "\n",
      "         0.0       0.81      0.90      0.85       157\n",
      "         1.0       0.83      0.70      0.76       111\n",
      "\n",
      "    accuracy                           0.82       268\n",
      "   macro avg       0.82      0.80      0.81       268\n",
      "weighted avg       0.82      0.82      0.81       268\n",
      "\n"
     ]
    }
   ],
   "source": [
    "xgb = XGBClassifier( learning_rate =0.01,\n",
    " n_estimators=1000,\n",
    " max_depth=3,\n",
    " min_child_weight=2,\n",
    " subsample=0.8,            \n",
    " colsample_bytree=0.5,\n",
    " nthread=3,\n",
    " scale_pos_weight=1,\n",
    " seed=30)\n",
    "\n",
    "pred_xgb = xgb.fit(X_train, y_train).predict(X_val)\n",
    "print(classification_report(y_val, pred_xgb))\n",
    "\n",
    "pred_xgb = xgb.fit(X_train_mm, y_train).predict(X_val_mm)\n",
    "print(classification_report(y_val, pred_xgb))\n",
    "\n",
    "pred_xgb = xgb.fit(X_train_scale, y_train).predict(X_val_scale)\n",
    "print(classification_report(y_val, pred_xgb))"
   ]
  },
  {
   "cell_type": "code",
   "execution_count": 63,
   "metadata": {},
   "outputs": [
    {
     "name": "stdout",
     "output_type": "stream",
     "text": [
      "Learning rate set to 0.008417\n",
      "0:\tlearn: 0.6870222\ttotal: 48.2ms\tremaining: 48.2s\n",
      "1:\tlearn: 0.6811848\ttotal: 49.2ms\tremaining: 24.6s\n",
      "2:\tlearn: 0.6751167\ttotal: 50.2ms\tremaining: 16.7s\n",
      "3:\tlearn: 0.6694339\ttotal: 51.1ms\tremaining: 12.7s\n",
      "4:\tlearn: 0.6638647\ttotal: 52ms\tremaining: 10.3s\n",
      "5:\tlearn: 0.6586099\ttotal: 52.8ms\tremaining: 8.74s\n",
      "6:\tlearn: 0.6530115\ttotal: 53.7ms\tremaining: 7.62s\n",
      "7:\tlearn: 0.6479908\ttotal: 54.7ms\tremaining: 6.78s\n",
      "8:\tlearn: 0.6430481\ttotal: 55.7ms\tremaining: 6.13s\n",
      "9:\tlearn: 0.6383990\ttotal: 56.6ms\tremaining: 5.6s\n",
      "10:\tlearn: 0.6330161\ttotal: 57.6ms\tremaining: 5.18s\n",
      "11:\tlearn: 0.6281411\ttotal: 58.4ms\tremaining: 4.81s\n",
      "12:\tlearn: 0.6246299\ttotal: 61.8ms\tremaining: 4.7s\n",
      "13:\tlearn: 0.6210298\ttotal: 62.8ms\tremaining: 4.42s\n",
      "14:\tlearn: 0.6173048\ttotal: 63.8ms\tremaining: 4.19s\n",
      "15:\tlearn: 0.6137907\ttotal: 64.8ms\tremaining: 3.98s\n",
      "16:\tlearn: 0.6093178\ttotal: 65.9ms\tremaining: 3.81s\n",
      "17:\tlearn: 0.6054947\ttotal: 67ms\tremaining: 3.66s\n",
      "18:\tlearn: 0.6011040\ttotal: 68ms\tremaining: 3.51s\n",
      "19:\tlearn: 0.5968259\ttotal: 68.9ms\tremaining: 3.37s\n",
      "20:\tlearn: 0.5928675\ttotal: 69.9ms\tremaining: 3.26s\n",
      "21:\tlearn: 0.5891131\ttotal: 70.8ms\tremaining: 3.15s\n",
      "22:\tlearn: 0.5854469\ttotal: 71.8ms\tremaining: 3.05s\n",
      "23:\tlearn: 0.5817834\ttotal: 72.8ms\tremaining: 2.96s\n",
      "24:\tlearn: 0.5782120\ttotal: 73.7ms\tremaining: 2.87s\n",
      "25:\tlearn: 0.5744506\ttotal: 81.9ms\tremaining: 3.07s\n",
      "26:\tlearn: 0.5708949\ttotal: 84.3ms\tremaining: 3.04s\n",
      "27:\tlearn: 0.5671827\ttotal: 86.7ms\tremaining: 3.01s\n",
      "28:\tlearn: 0.5637156\ttotal: 87.5ms\tremaining: 2.93s\n",
      "29:\tlearn: 0.5602897\ttotal: 88.3ms\tremaining: 2.86s\n",
      "30:\tlearn: 0.5570451\ttotal: 89.4ms\tremaining: 2.79s\n",
      "31:\tlearn: 0.5536005\ttotal: 92.6ms\tremaining: 2.8s\n",
      "32:\tlearn: 0.5511468\ttotal: 94.1ms\tremaining: 2.76s\n",
      "33:\tlearn: 0.5477139\ttotal: 95.1ms\tremaining: 2.7s\n",
      "34:\tlearn: 0.5455815\ttotal: 95.6ms\tremaining: 2.64s\n",
      "35:\tlearn: 0.5424500\ttotal: 96.4ms\tremaining: 2.58s\n",
      "36:\tlearn: 0.5403980\ttotal: 96.9ms\tremaining: 2.52s\n",
      "37:\tlearn: 0.5372418\ttotal: 97.9ms\tremaining: 2.48s\n",
      "38:\tlearn: 0.5341310\ttotal: 98.8ms\tremaining: 2.44s\n",
      "39:\tlearn: 0.5311584\ttotal: 99.8ms\tremaining: 2.39s\n",
      "40:\tlearn: 0.5281641\ttotal: 101ms\tremaining: 2.35s\n",
      "41:\tlearn: 0.5255710\ttotal: 102ms\tremaining: 2.32s\n",
      "42:\tlearn: 0.5240449\ttotal: 102ms\tremaining: 2.27s\n",
      "43:\tlearn: 0.5218609\ttotal: 103ms\tremaining: 2.24s\n",
      "44:\tlearn: 0.5194101\ttotal: 104ms\tremaining: 2.21s\n",
      "45:\tlearn: 0.5170964\ttotal: 105ms\tremaining: 2.18s\n",
      "46:\tlearn: 0.5146019\ttotal: 107ms\tremaining: 2.17s\n",
      "47:\tlearn: 0.5119720\ttotal: 109ms\tremaining: 2.17s\n",
      "48:\tlearn: 0.5099463\ttotal: 111ms\tremaining: 2.15s\n",
      "49:\tlearn: 0.5073340\ttotal: 112ms\tremaining: 2.12s\n",
      "50:\tlearn: 0.5055830\ttotal: 112ms\tremaining: 2.09s\n",
      "51:\tlearn: 0.5032018\ttotal: 113ms\tremaining: 2.07s\n",
      "52:\tlearn: 0.5018948\ttotal: 114ms\tremaining: 2.04s\n",
      "53:\tlearn: 0.4998690\ttotal: 115ms\tremaining: 2.02s\n",
      "54:\tlearn: 0.4973274\ttotal: 116ms\tremaining: 2s\n",
      "55:\tlearn: 0.4953806\ttotal: 117ms\tremaining: 1.98s\n",
      "56:\tlearn: 0.4932743\ttotal: 118ms\tremaining: 1.96s\n",
      "57:\tlearn: 0.4917607\ttotal: 119ms\tremaining: 1.94s\n",
      "58:\tlearn: 0.4898153\ttotal: 120ms\tremaining: 1.92s\n",
      "59:\tlearn: 0.4879815\ttotal: 121ms\tremaining: 1.9s\n",
      "60:\tlearn: 0.4858484\ttotal: 123ms\tremaining: 1.89s\n",
      "61:\tlearn: 0.4843412\ttotal: 126ms\tremaining: 1.9s\n",
      "62:\tlearn: 0.4826530\ttotal: 127ms\tremaining: 1.88s\n",
      "63:\tlearn: 0.4811372\ttotal: 128ms\tremaining: 1.87s\n",
      "64:\tlearn: 0.4793618\ttotal: 129ms\tremaining: 1.85s\n",
      "65:\tlearn: 0.4774896\ttotal: 130ms\tremaining: 1.83s\n",
      "66:\tlearn: 0.4765626\ttotal: 130ms\tremaining: 1.81s\n",
      "67:\tlearn: 0.4748301\ttotal: 131ms\tremaining: 1.8s\n",
      "68:\tlearn: 0.4734383\ttotal: 132ms\tremaining: 1.78s\n",
      "69:\tlearn: 0.4719278\ttotal: 133ms\tremaining: 1.77s\n",
      "70:\tlearn: 0.4702427\ttotal: 134ms\tremaining: 1.76s\n",
      "71:\tlearn: 0.4684196\ttotal: 135ms\tremaining: 1.75s\n",
      "72:\tlearn: 0.4674824\ttotal: 136ms\tremaining: 1.73s\n",
      "73:\tlearn: 0.4656804\ttotal: 141ms\tremaining: 1.76s\n",
      "74:\tlearn: 0.4643272\ttotal: 142ms\tremaining: 1.75s\n",
      "75:\tlearn: 0.4624893\ttotal: 143ms\tremaining: 1.73s\n",
      "76:\tlearn: 0.4610763\ttotal: 144ms\tremaining: 1.72s\n",
      "77:\tlearn: 0.4599647\ttotal: 145ms\tremaining: 1.71s\n",
      "78:\tlearn: 0.4587798\ttotal: 146ms\tremaining: 1.7s\n",
      "79:\tlearn: 0.4577545\ttotal: 147ms\tremaining: 1.69s\n",
      "80:\tlearn: 0.4569286\ttotal: 148ms\tremaining: 1.67s\n",
      "81:\tlearn: 0.4558566\ttotal: 149ms\tremaining: 1.66s\n",
      "82:\tlearn: 0.4547862\ttotal: 149ms\tremaining: 1.65s\n",
      "83:\tlearn: 0.4533994\ttotal: 150ms\tremaining: 1.64s\n",
      "84:\tlearn: 0.4522823\ttotal: 151ms\tremaining: 1.63s\n",
      "85:\tlearn: 0.4508567\ttotal: 152ms\tremaining: 1.61s\n",
      "86:\tlearn: 0.4496486\ttotal: 153ms\tremaining: 1.6s\n",
      "87:\tlearn: 0.4490359\ttotal: 153ms\tremaining: 1.59s\n",
      "88:\tlearn: 0.4477695\ttotal: 154ms\tremaining: 1.58s\n",
      "89:\tlearn: 0.4466870\ttotal: 155ms\tremaining: 1.57s\n",
      "90:\tlearn: 0.4452923\ttotal: 156ms\tremaining: 1.56s\n",
      "91:\tlearn: 0.4441636\ttotal: 157ms\tremaining: 1.55s\n",
      "92:\tlearn: 0.4429602\ttotal: 158ms\tremaining: 1.54s\n",
      "93:\tlearn: 0.4416334\ttotal: 159ms\tremaining: 1.53s\n",
      "94:\tlearn: 0.4411731\ttotal: 160ms\tremaining: 1.52s\n",
      "95:\tlearn: 0.4398721\ttotal: 161ms\tremaining: 1.51s\n",
      "96:\tlearn: 0.4386107\ttotal: 162ms\tremaining: 1.5s\n",
      "97:\tlearn: 0.4372862\ttotal: 162ms\tremaining: 1.5s\n",
      "98:\tlearn: 0.4368433\ttotal: 163ms\tremaining: 1.48s\n",
      "99:\tlearn: 0.4357229\ttotal: 164ms\tremaining: 1.47s\n",
      "100:\tlearn: 0.4347019\ttotal: 165ms\tremaining: 1.47s\n",
      "101:\tlearn: 0.4334988\ttotal: 165ms\tremaining: 1.46s\n",
      "102:\tlearn: 0.4324702\ttotal: 166ms\tremaining: 1.45s\n",
      "103:\tlearn: 0.4315524\ttotal: 167ms\tremaining: 1.44s\n",
      "104:\tlearn: 0.4307547\ttotal: 168ms\tremaining: 1.43s\n",
      "105:\tlearn: 0.4302966\ttotal: 169ms\tremaining: 1.42s\n",
      "106:\tlearn: 0.4298050\ttotal: 170ms\tremaining: 1.41s\n",
      "107:\tlearn: 0.4289145\ttotal: 170ms\tremaining: 1.41s\n",
      "108:\tlearn: 0.4282227\ttotal: 171ms\tremaining: 1.4s\n",
      "109:\tlearn: 0.4272466\ttotal: 172ms\tremaining: 1.39s\n",
      "110:\tlearn: 0.4264394\ttotal: 173ms\tremaining: 1.39s\n",
      "111:\tlearn: 0.4260434\ttotal: 174ms\tremaining: 1.38s\n",
      "112:\tlearn: 0.4250694\ttotal: 175ms\tremaining: 1.38s\n",
      "113:\tlearn: 0.4244973\ttotal: 176ms\tremaining: 1.37s\n",
      "114:\tlearn: 0.4237857\ttotal: 177ms\tremaining: 1.36s\n",
      "115:\tlearn: 0.4229332\ttotal: 177ms\tremaining: 1.35s\n",
      "116:\tlearn: 0.4223148\ttotal: 178ms\tremaining: 1.34s\n",
      "117:\tlearn: 0.4213363\ttotal: 179ms\tremaining: 1.33s\n",
      "118:\tlearn: 0.4206692\ttotal: 179ms\tremaining: 1.33s\n",
      "119:\tlearn: 0.4197875\ttotal: 180ms\tremaining: 1.32s\n",
      "120:\tlearn: 0.4189782\ttotal: 181ms\tremaining: 1.31s\n",
      "121:\tlearn: 0.4182427\ttotal: 181ms\tremaining: 1.3s\n",
      "122:\tlearn: 0.4176726\ttotal: 182ms\tremaining: 1.3s\n",
      "123:\tlearn: 0.4168823\ttotal: 183ms\tremaining: 1.29s\n",
      "124:\tlearn: 0.4162021\ttotal: 183ms\tremaining: 1.28s\n",
      "125:\tlearn: 0.4153246\ttotal: 185ms\tremaining: 1.28s\n",
      "126:\tlearn: 0.4145339\ttotal: 187ms\tremaining: 1.28s\n",
      "127:\tlearn: 0.4138418\ttotal: 188ms\tremaining: 1.28s\n",
      "128:\tlearn: 0.4130158\ttotal: 189ms\tremaining: 1.27s\n",
      "129:\tlearn: 0.4127891\ttotal: 190ms\tremaining: 1.27s\n",
      "130:\tlearn: 0.4119913\ttotal: 190ms\tremaining: 1.26s\n",
      "131:\tlearn: 0.4115110\ttotal: 192ms\tremaining: 1.26s\n",
      "132:\tlearn: 0.4107995\ttotal: 193ms\tremaining: 1.25s\n",
      "133:\tlearn: 0.4101597\ttotal: 194ms\tremaining: 1.25s\n",
      "134:\tlearn: 0.4097816\ttotal: 196ms\tremaining: 1.25s\n",
      "135:\tlearn: 0.4092152\ttotal: 197ms\tremaining: 1.25s\n",
      "136:\tlearn: 0.4086684\ttotal: 198ms\tremaining: 1.25s\n",
      "137:\tlearn: 0.4080313\ttotal: 199ms\tremaining: 1.24s\n",
      "138:\tlearn: 0.4076063\ttotal: 200ms\tremaining: 1.24s\n",
      "139:\tlearn: 0.4069570\ttotal: 200ms\tremaining: 1.23s\n",
      "140:\tlearn: 0.4061769\ttotal: 202ms\tremaining: 1.23s\n",
      "141:\tlearn: 0.4055969\ttotal: 203ms\tremaining: 1.23s\n",
      "142:\tlearn: 0.4052876\ttotal: 204ms\tremaining: 1.22s\n",
      "143:\tlearn: 0.4047214\ttotal: 205ms\tremaining: 1.22s\n",
      "144:\tlearn: 0.4039511\ttotal: 209ms\tremaining: 1.23s\n",
      "145:\tlearn: 0.4036801\ttotal: 210ms\tremaining: 1.23s\n",
      "146:\tlearn: 0.4031786\ttotal: 211ms\tremaining: 1.22s\n",
      "147:\tlearn: 0.4025509\ttotal: 212ms\tremaining: 1.22s\n",
      "148:\tlearn: 0.4020292\ttotal: 213ms\tremaining: 1.21s\n",
      "149:\tlearn: 0.4015981\ttotal: 214ms\tremaining: 1.21s\n",
      "150:\tlearn: 0.4007546\ttotal: 215ms\tremaining: 1.21s\n",
      "151:\tlearn: 0.4003062\ttotal: 216ms\tremaining: 1.21s\n",
      "152:\tlearn: 0.3997349\ttotal: 217ms\tremaining: 1.2s\n",
      "153:\tlearn: 0.3995016\ttotal: 218ms\tremaining: 1.2s\n",
      "154:\tlearn: 0.3989540\ttotal: 219ms\tremaining: 1.19s\n",
      "155:\tlearn: 0.3983218\ttotal: 220ms\tremaining: 1.19s\n",
      "156:\tlearn: 0.3982183\ttotal: 221ms\tremaining: 1.19s\n",
      "157:\tlearn: 0.3975061\ttotal: 222ms\tremaining: 1.18s\n",
      "158:\tlearn: 0.3972764\ttotal: 222ms\tremaining: 1.18s\n",
      "159:\tlearn: 0.3967093\ttotal: 223ms\tremaining: 1.17s\n",
      "160:\tlearn: 0.3963217\ttotal: 224ms\tremaining: 1.17s\n",
      "161:\tlearn: 0.3958408\ttotal: 224ms\tremaining: 1.16s\n",
      "162:\tlearn: 0.3954579\ttotal: 225ms\tremaining: 1.15s\n",
      "163:\tlearn: 0.3950014\ttotal: 226ms\tremaining: 1.15s\n",
      "164:\tlearn: 0.3943844\ttotal: 226ms\tremaining: 1.14s\n",
      "165:\tlearn: 0.3941329\ttotal: 227ms\tremaining: 1.14s\n",
      "166:\tlearn: 0.3934714\ttotal: 228ms\tremaining: 1.14s\n",
      "167:\tlearn: 0.3932789\ttotal: 228ms\tremaining: 1.13s\n",
      "168:\tlearn: 0.3928387\ttotal: 235ms\tremaining: 1.16s\n",
      "169:\tlearn: 0.3927272\ttotal: 237ms\tremaining: 1.16s\n",
      "170:\tlearn: 0.3924945\ttotal: 238ms\tremaining: 1.15s\n",
      "171:\tlearn: 0.3918432\ttotal: 239ms\tremaining: 1.15s\n",
      "172:\tlearn: 0.3911027\ttotal: 240ms\tremaining: 1.15s\n",
      "173:\tlearn: 0.3908086\ttotal: 240ms\tremaining: 1.14s\n",
      "174:\tlearn: 0.3906636\ttotal: 241ms\tremaining: 1.14s\n",
      "175:\tlearn: 0.3902802\ttotal: 242ms\tremaining: 1.13s\n",
      "176:\tlearn: 0.3897132\ttotal: 243ms\tremaining: 1.13s\n",
      "177:\tlearn: 0.3891029\ttotal: 244ms\tremaining: 1.12s\n",
      "178:\tlearn: 0.3888253\ttotal: 244ms\tremaining: 1.12s\n",
      "179:\tlearn: 0.3884788\ttotal: 246ms\tremaining: 1.12s\n",
      "180:\tlearn: 0.3882673\ttotal: 247ms\tremaining: 1.12s\n",
      "181:\tlearn: 0.3878807\ttotal: 249ms\tremaining: 1.12s\n",
      "182:\tlearn: 0.3875091\ttotal: 250ms\tremaining: 1.12s\n",
      "183:\tlearn: 0.3872504\ttotal: 251ms\tremaining: 1.11s\n",
      "184:\tlearn: 0.3867610\ttotal: 252ms\tremaining: 1.11s\n",
      "185:\tlearn: 0.3864018\ttotal: 253ms\tremaining: 1.1s\n",
      "186:\tlearn: 0.3859241\ttotal: 256ms\tremaining: 1.11s\n",
      "187:\tlearn: 0.3852805\ttotal: 257ms\tremaining: 1.11s\n",
      "188:\tlearn: 0.3848107\ttotal: 258ms\tremaining: 1.11s\n",
      "189:\tlearn: 0.3842102\ttotal: 259ms\tremaining: 1.1s\n",
      "190:\tlearn: 0.3839952\ttotal: 260ms\tremaining: 1.1s\n",
      "191:\tlearn: 0.3834494\ttotal: 261ms\tremaining: 1.1s\n",
      "192:\tlearn: 0.3832015\ttotal: 262ms\tremaining: 1.09s\n",
      "193:\tlearn: 0.3826308\ttotal: 263ms\tremaining: 1.09s\n",
      "194:\tlearn: 0.3822510\ttotal: 263ms\tremaining: 1.09s\n",
      "195:\tlearn: 0.3819902\ttotal: 264ms\tremaining: 1.08s\n",
      "196:\tlearn: 0.3815007\ttotal: 265ms\tremaining: 1.08s\n",
      "197:\tlearn: 0.3812313\ttotal: 266ms\tremaining: 1.08s\n",
      "198:\tlearn: 0.3808754\ttotal: 266ms\tremaining: 1.07s\n",
      "199:\tlearn: 0.3803987\ttotal: 267ms\tremaining: 1.07s\n",
      "200:\tlearn: 0.3802474\ttotal: 268ms\tremaining: 1.06s\n",
      "201:\tlearn: 0.3799181\ttotal: 268ms\tremaining: 1.06s\n",
      "202:\tlearn: 0.3796560\ttotal: 269ms\tremaining: 1.06s\n",
      "203:\tlearn: 0.3794534\ttotal: 270ms\tremaining: 1.05s\n",
      "204:\tlearn: 0.3791362\ttotal: 270ms\tremaining: 1.05s\n",
      "205:\tlearn: 0.3790054\ttotal: 271ms\tremaining: 1.04s\n",
      "206:\tlearn: 0.3787484\ttotal: 272ms\tremaining: 1.04s\n",
      "207:\tlearn: 0.3786023\ttotal: 272ms\tremaining: 1.04s\n",
      "208:\tlearn: 0.3783081\ttotal: 273ms\tremaining: 1.03s\n",
      "209:\tlearn: 0.3780716\ttotal: 274ms\tremaining: 1.03s\n",
      "210:\tlearn: 0.3778780\ttotal: 274ms\tremaining: 1.03s\n",
      "211:\tlearn: 0.3776898\ttotal: 275ms\tremaining: 1.02s\n",
      "212:\tlearn: 0.3772636\ttotal: 276ms\tremaining: 1.02s\n",
      "213:\tlearn: 0.3767831\ttotal: 277ms\tremaining: 1.02s\n",
      "214:\tlearn: 0.3763651\ttotal: 278ms\tremaining: 1.01s\n",
      "215:\tlearn: 0.3760109\ttotal: 279ms\tremaining: 1.01s\n",
      "216:\tlearn: 0.3757345\ttotal: 279ms\tremaining: 1.01s\n",
      "217:\tlearn: 0.3754327\ttotal: 280ms\tremaining: 1s\n",
      "218:\tlearn: 0.3749874\ttotal: 281ms\tremaining: 1s\n",
      "219:\tlearn: 0.3747128\ttotal: 282ms\tremaining: 998ms\n",
      "220:\tlearn: 0.3745369\ttotal: 282ms\tremaining: 995ms\n",
      "221:\tlearn: 0.3743803\ttotal: 283ms\tremaining: 991ms\n",
      "222:\tlearn: 0.3739501\ttotal: 284ms\tremaining: 988ms\n",
      "223:\tlearn: 0.3736364\ttotal: 284ms\tremaining: 985ms\n",
      "224:\tlearn: 0.3733706\ttotal: 285ms\tremaining: 981ms\n",
      "225:\tlearn: 0.3732021\ttotal: 286ms\tremaining: 978ms\n",
      "226:\tlearn: 0.3727068\ttotal: 286ms\tremaining: 975ms\n",
      "227:\tlearn: 0.3724473\ttotal: 287ms\tremaining: 972ms\n",
      "228:\tlearn: 0.3718830\ttotal: 288ms\tremaining: 968ms\n",
      "229:\tlearn: 0.3716232\ttotal: 288ms\tremaining: 965ms\n",
      "230:\tlearn: 0.3714948\ttotal: 289ms\tremaining: 962ms\n",
      "231:\tlearn: 0.3712784\ttotal: 290ms\tremaining: 959ms\n",
      "232:\tlearn: 0.3710428\ttotal: 291ms\tremaining: 956ms\n",
      "233:\tlearn: 0.3707952\ttotal: 292ms\tremaining: 957ms\n",
      "234:\tlearn: 0.3703521\ttotal: 293ms\tremaining: 955ms\n",
      "235:\tlearn: 0.3699414\ttotal: 294ms\tremaining: 952ms\n",
      "236:\tlearn: 0.3696643\ttotal: 295ms\tremaining: 949ms\n",
      "237:\tlearn: 0.3693940\ttotal: 296ms\tremaining: 946ms\n",
      "238:\tlearn: 0.3692626\ttotal: 296ms\tremaining: 943ms\n",
      "239:\tlearn: 0.3689116\ttotal: 297ms\tremaining: 940ms\n",
      "240:\tlearn: 0.3686475\ttotal: 298ms\tremaining: 937ms\n",
      "241:\tlearn: 0.3684686\ttotal: 298ms\tremaining: 934ms\n",
      "242:\tlearn: 0.3681902\ttotal: 299ms\tremaining: 931ms\n",
      "243:\tlearn: 0.3681118\ttotal: 300ms\tremaining: 928ms\n",
      "244:\tlearn: 0.3678210\ttotal: 300ms\tremaining: 925ms\n",
      "245:\tlearn: 0.3677836\ttotal: 301ms\tremaining: 921ms\n",
      "246:\tlearn: 0.3676245\ttotal: 301ms\tremaining: 918ms\n",
      "247:\tlearn: 0.3675361\ttotal: 302ms\tremaining: 915ms\n",
      "248:\tlearn: 0.3673331\ttotal: 302ms\tremaining: 912ms\n",
      "249:\tlearn: 0.3671722\ttotal: 303ms\tremaining: 909ms\n",
      "250:\tlearn: 0.3670489\ttotal: 304ms\tremaining: 907ms\n",
      "251:\tlearn: 0.3668472\ttotal: 304ms\tremaining: 904ms\n",
      "252:\tlearn: 0.3666660\ttotal: 305ms\tremaining: 901ms\n",
      "253:\tlearn: 0.3664121\ttotal: 306ms\tremaining: 898ms\n",
      "254:\tlearn: 0.3662000\ttotal: 310ms\tremaining: 906ms\n",
      "255:\tlearn: 0.3657915\ttotal: 311ms\tremaining: 904ms\n",
      "256:\tlearn: 0.3656344\ttotal: 312ms\tremaining: 902ms\n",
      "257:\tlearn: 0.3653715\ttotal: 313ms\tremaining: 900ms\n",
      "258:\tlearn: 0.3650377\ttotal: 313ms\tremaining: 897ms\n",
      "259:\tlearn: 0.3648548\ttotal: 314ms\tremaining: 894ms\n",
      "260:\tlearn: 0.3646973\ttotal: 315ms\tremaining: 892ms\n",
      "261:\tlearn: 0.3646092\ttotal: 315ms\tremaining: 889ms\n",
      "262:\tlearn: 0.3643119\ttotal: 316ms\tremaining: 886ms\n",
      "263:\tlearn: 0.3640846\ttotal: 317ms\tremaining: 883ms\n",
      "264:\tlearn: 0.3635707\ttotal: 318ms\tremaining: 881ms\n",
      "265:\tlearn: 0.3633224\ttotal: 318ms\tremaining: 878ms\n",
      "266:\tlearn: 0.3632313\ttotal: 319ms\tremaining: 876ms\n",
      "267:\tlearn: 0.3630517\ttotal: 320ms\tremaining: 873ms\n",
      "268:\tlearn: 0.3629611\ttotal: 320ms\tremaining: 871ms\n",
      "269:\tlearn: 0.3627409\ttotal: 322ms\tremaining: 870ms\n",
      "270:\tlearn: 0.3624506\ttotal: 323ms\tremaining: 868ms\n",
      "271:\tlearn: 0.3623991\ttotal: 324ms\tremaining: 867ms\n",
      "272:\tlearn: 0.3621994\ttotal: 325ms\tremaining: 865ms\n",
      "273:\tlearn: 0.3620971\ttotal: 325ms\tremaining: 862ms\n",
      "274:\tlearn: 0.3619251\ttotal: 326ms\tremaining: 860ms\n",
      "275:\tlearn: 0.3615355\ttotal: 327ms\tremaining: 857ms\n",
      "276:\tlearn: 0.3614765\ttotal: 327ms\tremaining: 854ms\n",
      "277:\tlearn: 0.3613453\ttotal: 328ms\tremaining: 852ms\n",
      "278:\tlearn: 0.3611600\ttotal: 329ms\tremaining: 849ms\n",
      "279:\tlearn: 0.3608696\ttotal: 329ms\tremaining: 847ms\n",
      "280:\tlearn: 0.3606492\ttotal: 330ms\tremaining: 844ms\n",
      "281:\tlearn: 0.3604809\ttotal: 331ms\tremaining: 842ms\n",
      "282:\tlearn: 0.3603738\ttotal: 331ms\tremaining: 839ms\n",
      "283:\tlearn: 0.3602236\ttotal: 332ms\tremaining: 837ms\n",
      "284:\tlearn: 0.3599669\ttotal: 333ms\tremaining: 835ms\n",
      "285:\tlearn: 0.3597790\ttotal: 333ms\tremaining: 832ms\n",
      "286:\tlearn: 0.3595984\ttotal: 334ms\tremaining: 830ms\n",
      "287:\tlearn: 0.3593092\ttotal: 335ms\tremaining: 828ms\n",
      "288:\tlearn: 0.3592447\ttotal: 336ms\tremaining: 826ms\n",
      "289:\tlearn: 0.3590320\ttotal: 336ms\tremaining: 823ms\n",
      "290:\tlearn: 0.3589610\ttotal: 337ms\tremaining: 821ms\n",
      "291:\tlearn: 0.3587825\ttotal: 338ms\tremaining: 818ms\n",
      "292:\tlearn: 0.3584987\ttotal: 338ms\tremaining: 816ms\n",
      "293:\tlearn: 0.3581010\ttotal: 339ms\tremaining: 814ms\n",
      "294:\tlearn: 0.3579026\ttotal: 340ms\tremaining: 812ms\n",
      "295:\tlearn: 0.3578042\ttotal: 340ms\tremaining: 809ms\n",
      "296:\tlearn: 0.3576549\ttotal: 341ms\tremaining: 807ms\n",
      "297:\tlearn: 0.3575235\ttotal: 342ms\tremaining: 805ms\n",
      "298:\tlearn: 0.3572350\ttotal: 342ms\tremaining: 803ms\n"
     ]
    },
    {
     "name": "stdout",
     "output_type": "stream",
     "text": [
      "299:\tlearn: 0.3570301\ttotal: 343ms\tremaining: 801ms\n",
      "300:\tlearn: 0.3568496\ttotal: 344ms\tremaining: 799ms\n",
      "301:\tlearn: 0.3565444\ttotal: 345ms\tremaining: 798ms\n",
      "302:\tlearn: 0.3563783\ttotal: 346ms\tremaining: 796ms\n",
      "303:\tlearn: 0.3562551\ttotal: 347ms\tremaining: 794ms\n",
      "304:\tlearn: 0.3561253\ttotal: 348ms\tremaining: 792ms\n",
      "305:\tlearn: 0.3558922\ttotal: 348ms\tremaining: 790ms\n",
      "306:\tlearn: 0.3557732\ttotal: 349ms\tremaining: 787ms\n",
      "307:\tlearn: 0.3556733\ttotal: 349ms\tremaining: 785ms\n",
      "308:\tlearn: 0.3556095\ttotal: 350ms\tremaining: 783ms\n",
      "309:\tlearn: 0.3554657\ttotal: 351ms\tremaining: 781ms\n",
      "310:\tlearn: 0.3554094\ttotal: 351ms\tremaining: 778ms\n",
      "311:\tlearn: 0.3552475\ttotal: 352ms\tremaining: 776ms\n",
      "312:\tlearn: 0.3549344\ttotal: 353ms\tremaining: 774ms\n",
      "313:\tlearn: 0.3546922\ttotal: 353ms\tremaining: 772ms\n",
      "314:\tlearn: 0.3546677\ttotal: 354ms\tremaining: 769ms\n",
      "315:\tlearn: 0.3545050\ttotal: 355ms\tremaining: 767ms\n",
      "316:\tlearn: 0.3543056\ttotal: 355ms\tremaining: 765ms\n",
      "317:\tlearn: 0.3540659\ttotal: 356ms\tremaining: 764ms\n",
      "318:\tlearn: 0.3539023\ttotal: 357ms\tremaining: 762ms\n",
      "319:\tlearn: 0.3537044\ttotal: 357ms\tremaining: 760ms\n",
      "320:\tlearn: 0.3536035\ttotal: 358ms\tremaining: 758ms\n",
      "321:\tlearn: 0.3533729\ttotal: 359ms\tremaining: 756ms\n",
      "322:\tlearn: 0.3528949\ttotal: 360ms\tremaining: 754ms\n",
      "323:\tlearn: 0.3526674\ttotal: 361ms\tremaining: 752ms\n",
      "324:\tlearn: 0.3525689\ttotal: 361ms\tremaining: 750ms\n",
      "325:\tlearn: 0.3524083\ttotal: 362ms\tremaining: 749ms\n",
      "326:\tlearn: 0.3520940\ttotal: 363ms\tremaining: 747ms\n",
      "327:\tlearn: 0.3518707\ttotal: 364ms\tremaining: 745ms\n",
      "328:\tlearn: 0.3517566\ttotal: 365ms\tremaining: 744ms\n",
      "329:\tlearn: 0.3515379\ttotal: 366ms\tremaining: 744ms\n",
      "330:\tlearn: 0.3514214\ttotal: 367ms\tremaining: 742ms\n",
      "331:\tlearn: 0.3513030\ttotal: 368ms\tremaining: 741ms\n",
      "332:\tlearn: 0.3512018\ttotal: 369ms\tremaining: 739ms\n",
      "333:\tlearn: 0.3509915\ttotal: 370ms\tremaining: 738ms\n",
      "334:\tlearn: 0.3506702\ttotal: 371ms\tremaining: 736ms\n",
      "335:\tlearn: 0.3503580\ttotal: 373ms\tremaining: 737ms\n",
      "336:\tlearn: 0.3502481\ttotal: 374ms\tremaining: 736ms\n",
      "337:\tlearn: 0.3500433\ttotal: 375ms\tremaining: 735ms\n",
      "338:\tlearn: 0.3498337\ttotal: 376ms\tremaining: 733ms\n",
      "339:\tlearn: 0.3497005\ttotal: 377ms\tremaining: 732ms\n",
      "340:\tlearn: 0.3496473\ttotal: 378ms\tremaining: 730ms\n",
      "341:\tlearn: 0.3493921\ttotal: 379ms\tremaining: 730ms\n",
      "342:\tlearn: 0.3493300\ttotal: 380ms\tremaining: 728ms\n",
      "343:\tlearn: 0.3491187\ttotal: 381ms\tremaining: 726ms\n",
      "344:\tlearn: 0.3490237\ttotal: 381ms\tremaining: 724ms\n",
      "345:\tlearn: 0.3489176\ttotal: 382ms\tremaining: 722ms\n",
      "346:\tlearn: 0.3487291\ttotal: 383ms\tremaining: 720ms\n",
      "347:\tlearn: 0.3485391\ttotal: 384ms\tremaining: 719ms\n",
      "348:\tlearn: 0.3484394\ttotal: 387ms\tremaining: 721ms\n",
      "349:\tlearn: 0.3483279\ttotal: 388ms\tremaining: 720ms\n",
      "350:\tlearn: 0.3482382\ttotal: 388ms\tremaining: 718ms\n",
      "351:\tlearn: 0.3481392\ttotal: 389ms\tremaining: 717ms\n",
      "352:\tlearn: 0.3480635\ttotal: 390ms\tremaining: 715ms\n",
      "353:\tlearn: 0.3478939\ttotal: 391ms\tremaining: 714ms\n",
      "354:\tlearn: 0.3478479\ttotal: 392ms\tremaining: 712ms\n",
      "355:\tlearn: 0.3476233\ttotal: 393ms\tremaining: 711ms\n",
      "356:\tlearn: 0.3474842\ttotal: 394ms\tremaining: 709ms\n",
      "357:\tlearn: 0.3474237\ttotal: 394ms\tremaining: 707ms\n",
      "358:\tlearn: 0.3471497\ttotal: 395ms\tremaining: 706ms\n",
      "359:\tlearn: 0.3469650\ttotal: 396ms\tremaining: 704ms\n",
      "360:\tlearn: 0.3469432\ttotal: 397ms\tremaining: 702ms\n",
      "361:\tlearn: 0.3468367\ttotal: 397ms\tremaining: 700ms\n",
      "362:\tlearn: 0.3466842\ttotal: 398ms\tremaining: 699ms\n",
      "363:\tlearn: 0.3466024\ttotal: 400ms\tremaining: 698ms\n",
      "364:\tlearn: 0.3464684\ttotal: 400ms\tremaining: 697ms\n",
      "365:\tlearn: 0.3464177\ttotal: 402ms\tremaining: 697ms\n",
      "366:\tlearn: 0.3462272\ttotal: 403ms\tremaining: 695ms\n",
      "367:\tlearn: 0.3460788\ttotal: 404ms\tremaining: 694ms\n",
      "368:\tlearn: 0.3457891\ttotal: 405ms\tremaining: 692ms\n",
      "369:\tlearn: 0.3456662\ttotal: 406ms\tremaining: 690ms\n",
      "370:\tlearn: 0.3454839\ttotal: 406ms\tremaining: 689ms\n",
      "371:\tlearn: 0.3453500\ttotal: 407ms\tremaining: 687ms\n",
      "372:\tlearn: 0.3452729\ttotal: 407ms\tremaining: 685ms\n",
      "373:\tlearn: 0.3448684\ttotal: 408ms\tremaining: 683ms\n",
      "374:\tlearn: 0.3447842\ttotal: 409ms\tremaining: 682ms\n",
      "375:\tlearn: 0.3446254\ttotal: 410ms\tremaining: 680ms\n",
      "376:\tlearn: 0.3445940\ttotal: 410ms\tremaining: 678ms\n",
      "377:\tlearn: 0.3445003\ttotal: 411ms\tremaining: 676ms\n",
      "378:\tlearn: 0.3443690\ttotal: 412ms\tremaining: 675ms\n",
      "379:\tlearn: 0.3442916\ttotal: 412ms\tremaining: 673ms\n",
      "380:\tlearn: 0.3441261\ttotal: 413ms\tremaining: 671ms\n",
      "381:\tlearn: 0.3440007\ttotal: 414ms\tremaining: 670ms\n",
      "382:\tlearn: 0.3439564\ttotal: 415ms\tremaining: 668ms\n",
      "383:\tlearn: 0.3438771\ttotal: 416ms\tremaining: 667ms\n",
      "384:\tlearn: 0.3434990\ttotal: 416ms\tremaining: 665ms\n",
      "385:\tlearn: 0.3431914\ttotal: 417ms\tremaining: 663ms\n",
      "386:\tlearn: 0.3430104\ttotal: 418ms\tremaining: 662ms\n",
      "387:\tlearn: 0.3428655\ttotal: 418ms\tremaining: 660ms\n",
      "388:\tlearn: 0.3426811\ttotal: 419ms\tremaining: 658ms\n",
      "389:\tlearn: 0.3424568\ttotal: 420ms\tremaining: 657ms\n",
      "390:\tlearn: 0.3421202\ttotal: 420ms\tremaining: 655ms\n",
      "391:\tlearn: 0.3418840\ttotal: 421ms\tremaining: 654ms\n",
      "392:\tlearn: 0.3417769\ttotal: 422ms\tremaining: 652ms\n",
      "393:\tlearn: 0.3417079\ttotal: 423ms\tremaining: 650ms\n",
      "394:\tlearn: 0.3416238\ttotal: 423ms\tremaining: 649ms\n",
      "395:\tlearn: 0.3415855\ttotal: 424ms\tremaining: 647ms\n",
      "396:\tlearn: 0.3415668\ttotal: 425ms\tremaining: 645ms\n",
      "397:\tlearn: 0.3413507\ttotal: 425ms\tremaining: 644ms\n",
      "398:\tlearn: 0.3412947\ttotal: 426ms\tremaining: 642ms\n",
      "399:\tlearn: 0.3410913\ttotal: 427ms\tremaining: 640ms\n",
      "400:\tlearn: 0.3408697\ttotal: 428ms\tremaining: 639ms\n",
      "401:\tlearn: 0.3408016\ttotal: 429ms\tremaining: 638ms\n",
      "402:\tlearn: 0.3406547\ttotal: 429ms\tremaining: 636ms\n",
      "403:\tlearn: 0.3404823\ttotal: 430ms\tremaining: 635ms\n",
      "404:\tlearn: 0.3404406\ttotal: 431ms\tremaining: 633ms\n",
      "405:\tlearn: 0.3403554\ttotal: 432ms\tremaining: 632ms\n",
      "406:\tlearn: 0.3402186\ttotal: 433ms\tremaining: 631ms\n",
      "407:\tlearn: 0.3400548\ttotal: 434ms\tremaining: 629ms\n",
      "408:\tlearn: 0.3398729\ttotal: 434ms\tremaining: 628ms\n",
      "409:\tlearn: 0.3397153\ttotal: 435ms\tremaining: 626ms\n",
      "410:\tlearn: 0.3396215\ttotal: 436ms\tremaining: 625ms\n",
      "411:\tlearn: 0.3394277\ttotal: 437ms\tremaining: 623ms\n",
      "412:\tlearn: 0.3392364\ttotal: 438ms\tremaining: 622ms\n",
      "413:\tlearn: 0.3389795\ttotal: 438ms\tremaining: 621ms\n",
      "414:\tlearn: 0.3388919\ttotal: 439ms\tremaining: 619ms\n",
      "415:\tlearn: 0.3388013\ttotal: 440ms\tremaining: 618ms\n",
      "416:\tlearn: 0.3387820\ttotal: 441ms\tremaining: 616ms\n",
      "417:\tlearn: 0.3386935\ttotal: 441ms\tremaining: 614ms\n",
      "418:\tlearn: 0.3386083\ttotal: 442ms\tremaining: 613ms\n",
      "419:\tlearn: 0.3384846\ttotal: 443ms\tremaining: 611ms\n",
      "420:\tlearn: 0.3384554\ttotal: 443ms\tremaining: 609ms\n",
      "421:\tlearn: 0.3382678\ttotal: 444ms\tremaining: 608ms\n",
      "422:\tlearn: 0.3381868\ttotal: 445ms\tremaining: 606ms\n",
      "423:\tlearn: 0.3381034\ttotal: 445ms\tremaining: 605ms\n",
      "424:\tlearn: 0.3378824\ttotal: 446ms\tremaining: 604ms\n",
      "425:\tlearn: 0.3378248\ttotal: 447ms\tremaining: 602ms\n",
      "426:\tlearn: 0.3376057\ttotal: 448ms\tremaining: 601ms\n",
      "427:\tlearn: 0.3373645\ttotal: 449ms\tremaining: 600ms\n",
      "428:\tlearn: 0.3371151\ttotal: 449ms\tremaining: 598ms\n",
      "429:\tlearn: 0.3369750\ttotal: 450ms\tremaining: 597ms\n",
      "430:\tlearn: 0.3368772\ttotal: 451ms\tremaining: 595ms\n",
      "431:\tlearn: 0.3367279\ttotal: 452ms\tremaining: 594ms\n",
      "432:\tlearn: 0.3366500\ttotal: 453ms\tremaining: 593ms\n",
      "433:\tlearn: 0.3365712\ttotal: 453ms\tremaining: 591ms\n",
      "434:\tlearn: 0.3363366\ttotal: 454ms\tremaining: 590ms\n",
      "435:\tlearn: 0.3361836\ttotal: 455ms\tremaining: 588ms\n",
      "436:\tlearn: 0.3360340\ttotal: 456ms\tremaining: 587ms\n",
      "437:\tlearn: 0.3357990\ttotal: 456ms\tremaining: 586ms\n",
      "438:\tlearn: 0.3357493\ttotal: 457ms\tremaining: 584ms\n",
      "439:\tlearn: 0.3356961\ttotal: 458ms\tremaining: 583ms\n",
      "440:\tlearn: 0.3354260\ttotal: 459ms\tremaining: 582ms\n",
      "441:\tlearn: 0.3353409\ttotal: 460ms\tremaining: 580ms\n",
      "442:\tlearn: 0.3350849\ttotal: 461ms\tremaining: 579ms\n",
      "443:\tlearn: 0.3348395\ttotal: 461ms\tremaining: 578ms\n",
      "444:\tlearn: 0.3348199\ttotal: 462ms\tremaining: 576ms\n",
      "445:\tlearn: 0.3347194\ttotal: 463ms\tremaining: 575ms\n",
      "446:\tlearn: 0.3345930\ttotal: 464ms\tremaining: 573ms\n",
      "447:\tlearn: 0.3345086\ttotal: 464ms\tremaining: 572ms\n",
      "448:\tlearn: 0.3343341\ttotal: 465ms\tremaining: 571ms\n",
      "449:\tlearn: 0.3342814\ttotal: 466ms\tremaining: 569ms\n",
      "450:\tlearn: 0.3341579\ttotal: 467ms\tremaining: 568ms\n",
      "451:\tlearn: 0.3340762\ttotal: 467ms\tremaining: 567ms\n",
      "452:\tlearn: 0.3339713\ttotal: 468ms\tremaining: 565ms\n",
      "453:\tlearn: 0.3338622\ttotal: 469ms\tremaining: 564ms\n",
      "454:\tlearn: 0.3338545\ttotal: 469ms\tremaining: 562ms\n",
      "455:\tlearn: 0.3337821\ttotal: 470ms\tremaining: 561ms\n",
      "456:\tlearn: 0.3334089\ttotal: 471ms\tremaining: 559ms\n",
      "457:\tlearn: 0.3332713\ttotal: 472ms\tremaining: 558ms\n",
      "458:\tlearn: 0.3331646\ttotal: 472ms\tremaining: 557ms\n",
      "459:\tlearn: 0.3331335\ttotal: 473ms\tremaining: 555ms\n",
      "460:\tlearn: 0.3330511\ttotal: 474ms\tremaining: 554ms\n",
      "461:\tlearn: 0.3330171\ttotal: 475ms\tremaining: 553ms\n",
      "462:\tlearn: 0.3327448\ttotal: 475ms\tremaining: 551ms\n",
      "463:\tlearn: 0.3326656\ttotal: 476ms\tremaining: 550ms\n",
      "464:\tlearn: 0.3326308\ttotal: 477ms\tremaining: 549ms\n",
      "465:\tlearn: 0.3325320\ttotal: 477ms\tremaining: 547ms\n",
      "466:\tlearn: 0.3325113\ttotal: 478ms\tremaining: 546ms\n",
      "467:\tlearn: 0.3324590\ttotal: 479ms\tremaining: 544ms\n",
      "468:\tlearn: 0.3322912\ttotal: 480ms\tremaining: 543ms\n",
      "469:\tlearn: 0.3321291\ttotal: 481ms\tremaining: 542ms\n",
      "470:\tlearn: 0.3319324\ttotal: 481ms\tremaining: 541ms\n",
      "471:\tlearn: 0.3316529\ttotal: 482ms\tremaining: 539ms\n",
      "472:\tlearn: 0.3314527\ttotal: 483ms\tremaining: 538ms\n",
      "473:\tlearn: 0.3313007\ttotal: 483ms\tremaining: 536ms\n",
      "474:\tlearn: 0.3312466\ttotal: 484ms\tremaining: 535ms\n",
      "475:\tlearn: 0.3311666\ttotal: 485ms\tremaining: 534ms\n",
      "476:\tlearn: 0.3310147\ttotal: 486ms\tremaining: 533ms\n",
      "477:\tlearn: 0.3309720\ttotal: 487ms\tremaining: 531ms\n",
      "478:\tlearn: 0.3307970\ttotal: 487ms\tremaining: 530ms\n",
      "479:\tlearn: 0.3307457\ttotal: 488ms\tremaining: 529ms\n",
      "480:\tlearn: 0.3306336\ttotal: 489ms\tremaining: 528ms\n",
      "481:\tlearn: 0.3305487\ttotal: 490ms\tremaining: 526ms\n",
      "482:\tlearn: 0.3304428\ttotal: 491ms\tremaining: 525ms\n",
      "483:\tlearn: 0.3302394\ttotal: 491ms\tremaining: 524ms\n",
      "484:\tlearn: 0.3301228\ttotal: 492ms\tremaining: 523ms\n",
      "485:\tlearn: 0.3299586\ttotal: 493ms\tremaining: 521ms\n",
      "486:\tlearn: 0.3299122\ttotal: 494ms\tremaining: 520ms\n",
      "487:\tlearn: 0.3297609\ttotal: 494ms\tremaining: 519ms\n",
      "488:\tlearn: 0.3295347\ttotal: 495ms\tremaining: 518ms\n",
      "489:\tlearn: 0.3293657\ttotal: 496ms\tremaining: 516ms\n",
      "490:\tlearn: 0.3293522\ttotal: 497ms\tremaining: 515ms\n",
      "491:\tlearn: 0.3291611\ttotal: 497ms\tremaining: 514ms\n",
      "492:\tlearn: 0.3290257\ttotal: 498ms\tremaining: 512ms\n",
      "493:\tlearn: 0.3289584\ttotal: 499ms\tremaining: 511ms\n",
      "494:\tlearn: 0.3288605\ttotal: 500ms\tremaining: 510ms\n",
      "495:\tlearn: 0.3288003\ttotal: 500ms\tremaining: 508ms\n",
      "496:\tlearn: 0.3287098\ttotal: 501ms\tremaining: 507ms\n",
      "497:\tlearn: 0.3286898\ttotal: 502ms\tremaining: 506ms\n",
      "498:\tlearn: 0.3286576\ttotal: 502ms\tremaining: 504ms\n",
      "499:\tlearn: 0.3286254\ttotal: 503ms\tremaining: 503ms\n",
      "500:\tlearn: 0.3285268\ttotal: 504ms\tremaining: 502ms\n",
      "501:\tlearn: 0.3284451\ttotal: 504ms\tremaining: 500ms\n",
      "502:\tlearn: 0.3281614\ttotal: 505ms\tremaining: 499ms\n",
      "503:\tlearn: 0.3281165\ttotal: 506ms\tremaining: 498ms\n",
      "504:\tlearn: 0.3280522\ttotal: 507ms\tremaining: 497ms\n",
      "505:\tlearn: 0.3279956\ttotal: 507ms\tremaining: 495ms\n",
      "506:\tlearn: 0.3278848\ttotal: 508ms\tremaining: 494ms\n",
      "507:\tlearn: 0.3278552\ttotal: 509ms\tremaining: 493ms\n",
      "508:\tlearn: 0.3278135\ttotal: 510ms\tremaining: 492ms\n",
      "509:\tlearn: 0.3276721\ttotal: 510ms\tremaining: 490ms\n",
      "510:\tlearn: 0.3275909\ttotal: 511ms\tremaining: 489ms\n",
      "511:\tlearn: 0.3274848\ttotal: 512ms\tremaining: 488ms\n",
      "512:\tlearn: 0.3274617\ttotal: 512ms\tremaining: 486ms\n",
      "513:\tlearn: 0.3273743\ttotal: 513ms\tremaining: 485ms\n",
      "514:\tlearn: 0.3273505\ttotal: 514ms\tremaining: 484ms\n",
      "515:\tlearn: 0.3272405\ttotal: 515ms\tremaining: 483ms\n",
      "516:\tlearn: 0.3271679\ttotal: 515ms\tremaining: 482ms\n",
      "517:\tlearn: 0.3270546\ttotal: 516ms\tremaining: 480ms\n",
      "518:\tlearn: 0.3269372\ttotal: 517ms\tremaining: 479ms\n",
      "519:\tlearn: 0.3266948\ttotal: 518ms\tremaining: 478ms\n",
      "520:\tlearn: 0.3265591\ttotal: 519ms\tremaining: 477ms\n",
      "521:\tlearn: 0.3264506\ttotal: 519ms\tremaining: 476ms\n",
      "522:\tlearn: 0.3263290\ttotal: 520ms\tremaining: 474ms\n",
      "523:\tlearn: 0.3261738\ttotal: 521ms\tremaining: 473ms\n",
      "524:\tlearn: 0.3261023\ttotal: 522ms\tremaining: 472ms\n",
      "525:\tlearn: 0.3259547\ttotal: 522ms\tremaining: 471ms\n",
      "526:\tlearn: 0.3257860\ttotal: 523ms\tremaining: 469ms\n",
      "527:\tlearn: 0.3256339\ttotal: 524ms\tremaining: 468ms\n",
      "528:\tlearn: 0.3256021\ttotal: 525ms\tremaining: 467ms\n",
      "529:\tlearn: 0.3254573\ttotal: 525ms\tremaining: 466ms\n",
      "530:\tlearn: 0.3252306\ttotal: 526ms\tremaining: 465ms\n",
      "531:\tlearn: 0.3249661\ttotal: 527ms\tremaining: 463ms\n",
      "532:\tlearn: 0.3249321\ttotal: 527ms\tremaining: 462ms\n",
      "533:\tlearn: 0.3248783\ttotal: 528ms\tremaining: 461ms\n",
      "534:\tlearn: 0.3247768\ttotal: 529ms\tremaining: 459ms\n",
      "535:\tlearn: 0.3246766\ttotal: 529ms\tremaining: 458ms\n",
      "536:\tlearn: 0.3245573\ttotal: 530ms\tremaining: 457ms\n",
      "537:\tlearn: 0.3242938\ttotal: 531ms\tremaining: 456ms\n"
     ]
    },
    {
     "name": "stdout",
     "output_type": "stream",
     "text": [
      "538:\tlearn: 0.3240290\ttotal: 532ms\tremaining: 455ms\n",
      "539:\tlearn: 0.3236208\ttotal: 533ms\tremaining: 454ms\n",
      "540:\tlearn: 0.3235336\ttotal: 534ms\tremaining: 453ms\n",
      "541:\tlearn: 0.3234454\ttotal: 534ms\tremaining: 452ms\n",
      "542:\tlearn: 0.3233250\ttotal: 535ms\tremaining: 450ms\n",
      "543:\tlearn: 0.3231168\ttotal: 536ms\tremaining: 449ms\n",
      "544:\tlearn: 0.3230711\ttotal: 536ms\tremaining: 448ms\n",
      "545:\tlearn: 0.3229006\ttotal: 537ms\tremaining: 447ms\n",
      "546:\tlearn: 0.3228232\ttotal: 538ms\tremaining: 445ms\n",
      "547:\tlearn: 0.3227632\ttotal: 538ms\tremaining: 444ms\n",
      "548:\tlearn: 0.3225807\ttotal: 539ms\tremaining: 443ms\n",
      "549:\tlearn: 0.3224511\ttotal: 544ms\tremaining: 445ms\n",
      "550:\tlearn: 0.3224204\ttotal: 545ms\tremaining: 444ms\n",
      "551:\tlearn: 0.3223361\ttotal: 546ms\tremaining: 443ms\n",
      "552:\tlearn: 0.3221992\ttotal: 547ms\tremaining: 442ms\n",
      "553:\tlearn: 0.3221534\ttotal: 548ms\tremaining: 441ms\n",
      "554:\tlearn: 0.3219332\ttotal: 549ms\tremaining: 440ms\n",
      "555:\tlearn: 0.3218776\ttotal: 549ms\tremaining: 439ms\n",
      "556:\tlearn: 0.3217503\ttotal: 550ms\tremaining: 438ms\n",
      "557:\tlearn: 0.3216796\ttotal: 551ms\tremaining: 436ms\n",
      "558:\tlearn: 0.3214721\ttotal: 552ms\tremaining: 435ms\n",
      "559:\tlearn: 0.3214071\ttotal: 552ms\tremaining: 434ms\n",
      "560:\tlearn: 0.3213790\ttotal: 553ms\tremaining: 433ms\n",
      "561:\tlearn: 0.3213246\ttotal: 554ms\tremaining: 431ms\n",
      "562:\tlearn: 0.3212679\ttotal: 554ms\tremaining: 430ms\n",
      "563:\tlearn: 0.3212011\ttotal: 555ms\tremaining: 429ms\n",
      "564:\tlearn: 0.3210531\ttotal: 556ms\tremaining: 428ms\n",
      "565:\tlearn: 0.3210471\ttotal: 557ms\tremaining: 427ms\n",
      "566:\tlearn: 0.3209201\ttotal: 558ms\tremaining: 426ms\n",
      "567:\tlearn: 0.3208279\ttotal: 559ms\tremaining: 425ms\n",
      "568:\tlearn: 0.3207602\ttotal: 560ms\tremaining: 424ms\n",
      "569:\tlearn: 0.3207283\ttotal: 561ms\tremaining: 423ms\n",
      "570:\tlearn: 0.3206674\ttotal: 561ms\tremaining: 422ms\n",
      "571:\tlearn: 0.3205386\ttotal: 562ms\tremaining: 421ms\n",
      "572:\tlearn: 0.3204817\ttotal: 563ms\tremaining: 420ms\n",
      "573:\tlearn: 0.3204028\ttotal: 564ms\tremaining: 418ms\n",
      "574:\tlearn: 0.3202814\ttotal: 565ms\tremaining: 417ms\n",
      "575:\tlearn: 0.3202791\ttotal: 565ms\tremaining: 416ms\n",
      "576:\tlearn: 0.3201656\ttotal: 566ms\tremaining: 415ms\n",
      "577:\tlearn: 0.3200720\ttotal: 567ms\tremaining: 414ms\n",
      "578:\tlearn: 0.3200207\ttotal: 568ms\tremaining: 413ms\n",
      "579:\tlearn: 0.3198178\ttotal: 569ms\tremaining: 412ms\n",
      "580:\tlearn: 0.3198165\ttotal: 569ms\tremaining: 410ms\n",
      "581:\tlearn: 0.3197831\ttotal: 570ms\tremaining: 409ms\n",
      "582:\tlearn: 0.3197465\ttotal: 571ms\tremaining: 408ms\n",
      "583:\tlearn: 0.3196079\ttotal: 572ms\tremaining: 407ms\n",
      "584:\tlearn: 0.3194471\ttotal: 573ms\tremaining: 406ms\n",
      "585:\tlearn: 0.3193558\ttotal: 574ms\tremaining: 405ms\n",
      "586:\tlearn: 0.3193166\ttotal: 574ms\tremaining: 404ms\n",
      "587:\tlearn: 0.3191908\ttotal: 575ms\tremaining: 403ms\n",
      "588:\tlearn: 0.3191353\ttotal: 577ms\tremaining: 402ms\n",
      "589:\tlearn: 0.3191057\ttotal: 578ms\tremaining: 401ms\n",
      "590:\tlearn: 0.3187418\ttotal: 578ms\tremaining: 400ms\n",
      "591:\tlearn: 0.3185654\ttotal: 579ms\tremaining: 399ms\n",
      "592:\tlearn: 0.3185392\ttotal: 580ms\tremaining: 398ms\n",
      "593:\tlearn: 0.3184133\ttotal: 580ms\tremaining: 397ms\n",
      "594:\tlearn: 0.3179986\ttotal: 581ms\tremaining: 395ms\n",
      "595:\tlearn: 0.3179352\ttotal: 582ms\tremaining: 394ms\n",
      "596:\tlearn: 0.3177137\ttotal: 582ms\tremaining: 393ms\n",
      "597:\tlearn: 0.3175647\ttotal: 583ms\tremaining: 392ms\n",
      "598:\tlearn: 0.3174901\ttotal: 584ms\tremaining: 391ms\n",
      "599:\tlearn: 0.3173049\ttotal: 584ms\tremaining: 390ms\n",
      "600:\tlearn: 0.3172107\ttotal: 585ms\tremaining: 388ms\n",
      "601:\tlearn: 0.3170838\ttotal: 587ms\tremaining: 388ms\n",
      "602:\tlearn: 0.3169196\ttotal: 588ms\tremaining: 387ms\n",
      "603:\tlearn: 0.3167982\ttotal: 589ms\tremaining: 386ms\n",
      "604:\tlearn: 0.3167301\ttotal: 591ms\tremaining: 386ms\n",
      "605:\tlearn: 0.3166840\ttotal: 592ms\tremaining: 385ms\n",
      "606:\tlearn: 0.3165246\ttotal: 593ms\tremaining: 384ms\n",
      "607:\tlearn: 0.3164772\ttotal: 593ms\tremaining: 382ms\n",
      "608:\tlearn: 0.3164346\ttotal: 594ms\tremaining: 381ms\n",
      "609:\tlearn: 0.3163014\ttotal: 594ms\tremaining: 380ms\n",
      "610:\tlearn: 0.3160819\ttotal: 595ms\tremaining: 379ms\n",
      "611:\tlearn: 0.3159976\ttotal: 596ms\tremaining: 378ms\n",
      "612:\tlearn: 0.3158733\ttotal: 597ms\tremaining: 377ms\n",
      "613:\tlearn: 0.3156416\ttotal: 597ms\tremaining: 375ms\n",
      "614:\tlearn: 0.3155824\ttotal: 598ms\tremaining: 374ms\n",
      "615:\tlearn: 0.3154525\ttotal: 599ms\tremaining: 373ms\n",
      "616:\tlearn: 0.3154101\ttotal: 599ms\tremaining: 372ms\n",
      "617:\tlearn: 0.3152372\ttotal: 600ms\tremaining: 371ms\n",
      "618:\tlearn: 0.3152233\ttotal: 601ms\tremaining: 370ms\n",
      "619:\tlearn: 0.3151486\ttotal: 601ms\tremaining: 369ms\n",
      "620:\tlearn: 0.3149111\ttotal: 602ms\tremaining: 367ms\n",
      "621:\tlearn: 0.3146931\ttotal: 603ms\tremaining: 366ms\n",
      "622:\tlearn: 0.3146757\ttotal: 604ms\tremaining: 365ms\n",
      "623:\tlearn: 0.3146082\ttotal: 604ms\tremaining: 364ms\n",
      "624:\tlearn: 0.3145957\ttotal: 605ms\tremaining: 363ms\n",
      "625:\tlearn: 0.3144177\ttotal: 605ms\tremaining: 362ms\n",
      "626:\tlearn: 0.3142501\ttotal: 606ms\tremaining: 360ms\n",
      "627:\tlearn: 0.3142156\ttotal: 607ms\tremaining: 359ms\n",
      "628:\tlearn: 0.3140410\ttotal: 607ms\tremaining: 358ms\n",
      "629:\tlearn: 0.3138109\ttotal: 608ms\tremaining: 357ms\n",
      "630:\tlearn: 0.3136269\ttotal: 609ms\tremaining: 356ms\n",
      "631:\tlearn: 0.3135321\ttotal: 609ms\tremaining: 355ms\n",
      "632:\tlearn: 0.3133476\ttotal: 610ms\tremaining: 354ms\n",
      "633:\tlearn: 0.3131451\ttotal: 611ms\tremaining: 353ms\n",
      "634:\tlearn: 0.3130551\ttotal: 612ms\tremaining: 352ms\n",
      "635:\tlearn: 0.3130270\ttotal: 612ms\tremaining: 351ms\n",
      "636:\tlearn: 0.3129769\ttotal: 613ms\tremaining: 349ms\n",
      "637:\tlearn: 0.3128363\ttotal: 614ms\tremaining: 348ms\n",
      "638:\tlearn: 0.3127025\ttotal: 615ms\tremaining: 347ms\n",
      "639:\tlearn: 0.3125822\ttotal: 615ms\tremaining: 346ms\n",
      "640:\tlearn: 0.3124818\ttotal: 616ms\tremaining: 345ms\n",
      "641:\tlearn: 0.3123189\ttotal: 618ms\tremaining: 344ms\n",
      "642:\tlearn: 0.3122688\ttotal: 619ms\tremaining: 343ms\n",
      "643:\tlearn: 0.3122150\ttotal: 619ms\tremaining: 342ms\n",
      "644:\tlearn: 0.3121762\ttotal: 620ms\tremaining: 341ms\n",
      "645:\tlearn: 0.3120974\ttotal: 621ms\tremaining: 340ms\n",
      "646:\tlearn: 0.3120670\ttotal: 621ms\tremaining: 339ms\n",
      "647:\tlearn: 0.3118407\ttotal: 622ms\tremaining: 338ms\n",
      "648:\tlearn: 0.3117707\ttotal: 623ms\tremaining: 337ms\n",
      "649:\tlearn: 0.3116648\ttotal: 623ms\tremaining: 336ms\n",
      "650:\tlearn: 0.3116123\ttotal: 624ms\tremaining: 335ms\n",
      "651:\tlearn: 0.3114983\ttotal: 625ms\tremaining: 334ms\n",
      "652:\tlearn: 0.3113500\ttotal: 625ms\tremaining: 332ms\n",
      "653:\tlearn: 0.3112669\ttotal: 626ms\tremaining: 331ms\n",
      "654:\tlearn: 0.3111903\ttotal: 627ms\tremaining: 330ms\n",
      "655:\tlearn: 0.3111123\ttotal: 627ms\tremaining: 329ms\n",
      "656:\tlearn: 0.3109965\ttotal: 628ms\tremaining: 328ms\n",
      "657:\tlearn: 0.3108643\ttotal: 629ms\tremaining: 327ms\n",
      "658:\tlearn: 0.3107470\ttotal: 630ms\tremaining: 326ms\n",
      "659:\tlearn: 0.3106333\ttotal: 630ms\tremaining: 325ms\n",
      "660:\tlearn: 0.3105851\ttotal: 631ms\tremaining: 324ms\n",
      "661:\tlearn: 0.3105288\ttotal: 632ms\tremaining: 322ms\n",
      "662:\tlearn: 0.3104534\ttotal: 632ms\tremaining: 321ms\n",
      "663:\tlearn: 0.3103729\ttotal: 633ms\tremaining: 320ms\n",
      "664:\tlearn: 0.3102809\ttotal: 634ms\tremaining: 320ms\n",
      "665:\tlearn: 0.3101739\ttotal: 635ms\tremaining: 319ms\n",
      "666:\tlearn: 0.3100170\ttotal: 636ms\tremaining: 318ms\n",
      "667:\tlearn: 0.3098519\ttotal: 637ms\tremaining: 317ms\n",
      "668:\tlearn: 0.3097956\ttotal: 638ms\tremaining: 315ms\n",
      "669:\tlearn: 0.3097093\ttotal: 638ms\tremaining: 314ms\n",
      "670:\tlearn: 0.3095184\ttotal: 639ms\tremaining: 313ms\n",
      "671:\tlearn: 0.3093462\ttotal: 640ms\tremaining: 312ms\n",
      "672:\tlearn: 0.3090799\ttotal: 640ms\tremaining: 311ms\n",
      "673:\tlearn: 0.3088561\ttotal: 641ms\tremaining: 310ms\n",
      "674:\tlearn: 0.3087423\ttotal: 642ms\tremaining: 309ms\n",
      "675:\tlearn: 0.3084953\ttotal: 642ms\tremaining: 308ms\n",
      "676:\tlearn: 0.3084256\ttotal: 643ms\tremaining: 307ms\n",
      "677:\tlearn: 0.3084193\ttotal: 643ms\tremaining: 306ms\n",
      "678:\tlearn: 0.3083868\ttotal: 644ms\tremaining: 304ms\n",
      "679:\tlearn: 0.3081575\ttotal: 645ms\tremaining: 303ms\n",
      "680:\tlearn: 0.3079510\ttotal: 645ms\tremaining: 302ms\n",
      "681:\tlearn: 0.3078608\ttotal: 646ms\tremaining: 301ms\n",
      "682:\tlearn: 0.3076004\ttotal: 647ms\tremaining: 300ms\n",
      "683:\tlearn: 0.3074187\ttotal: 649ms\tremaining: 300ms\n",
      "684:\tlearn: 0.3071536\ttotal: 651ms\tremaining: 299ms\n",
      "685:\tlearn: 0.3071324\ttotal: 652ms\tremaining: 298ms\n",
      "686:\tlearn: 0.3071123\ttotal: 653ms\tremaining: 297ms\n",
      "687:\tlearn: 0.3070460\ttotal: 653ms\tremaining: 296ms\n",
      "688:\tlearn: 0.3070414\ttotal: 654ms\tremaining: 295ms\n",
      "689:\tlearn: 0.3069788\ttotal: 654ms\tremaining: 294ms\n",
      "690:\tlearn: 0.3069119\ttotal: 655ms\tremaining: 293ms\n",
      "691:\tlearn: 0.3068559\ttotal: 656ms\tremaining: 292ms\n",
      "692:\tlearn: 0.3068083\ttotal: 656ms\tremaining: 291ms\n",
      "693:\tlearn: 0.3066777\ttotal: 657ms\tremaining: 290ms\n",
      "694:\tlearn: 0.3064090\ttotal: 658ms\tremaining: 289ms\n",
      "695:\tlearn: 0.3063156\ttotal: 658ms\tremaining: 288ms\n",
      "696:\tlearn: 0.3061971\ttotal: 659ms\tremaining: 287ms\n",
      "697:\tlearn: 0.3061903\ttotal: 660ms\tremaining: 285ms\n",
      "698:\tlearn: 0.3060674\ttotal: 660ms\tremaining: 284ms\n",
      "699:\tlearn: 0.3059854\ttotal: 661ms\tremaining: 283ms\n",
      "700:\tlearn: 0.3059483\ttotal: 662ms\tremaining: 282ms\n",
      "701:\tlearn: 0.3058213\ttotal: 662ms\tremaining: 281ms\n",
      "702:\tlearn: 0.3055682\ttotal: 663ms\tremaining: 280ms\n",
      "703:\tlearn: 0.3053067\ttotal: 664ms\tremaining: 279ms\n",
      "704:\tlearn: 0.3052951\ttotal: 665ms\tremaining: 278ms\n",
      "705:\tlearn: 0.3050755\ttotal: 666ms\tremaining: 277ms\n",
      "706:\tlearn: 0.3048153\ttotal: 667ms\tremaining: 276ms\n",
      "707:\tlearn: 0.3047630\ttotal: 668ms\tremaining: 275ms\n",
      "708:\tlearn: 0.3046470\ttotal: 668ms\tremaining: 274ms\n",
      "709:\tlearn: 0.3045731\ttotal: 669ms\tremaining: 273ms\n",
      "710:\tlearn: 0.3043442\ttotal: 670ms\tremaining: 272ms\n",
      "711:\tlearn: 0.3043012\ttotal: 670ms\tremaining: 271ms\n",
      "712:\tlearn: 0.3042774\ttotal: 671ms\tremaining: 270ms\n",
      "713:\tlearn: 0.3041938\ttotal: 672ms\tremaining: 269ms\n",
      "714:\tlearn: 0.3039875\ttotal: 672ms\tremaining: 268ms\n",
      "715:\tlearn: 0.3039273\ttotal: 673ms\tremaining: 267ms\n",
      "716:\tlearn: 0.3038862\ttotal: 674ms\tremaining: 266ms\n",
      "717:\tlearn: 0.3036819\ttotal: 674ms\tremaining: 265ms\n",
      "718:\tlearn: 0.3036505\ttotal: 675ms\tremaining: 264ms\n",
      "719:\tlearn: 0.3035739\ttotal: 676ms\tremaining: 263ms\n",
      "720:\tlearn: 0.3035121\ttotal: 676ms\tremaining: 262ms\n",
      "721:\tlearn: 0.3034759\ttotal: 677ms\tremaining: 261ms\n",
      "722:\tlearn: 0.3034444\ttotal: 677ms\tremaining: 260ms\n",
      "723:\tlearn: 0.3034092\ttotal: 678ms\tremaining: 259ms\n",
      "724:\tlearn: 0.3033046\ttotal: 679ms\tremaining: 258ms\n",
      "725:\tlearn: 0.3031784\ttotal: 680ms\tremaining: 257ms\n",
      "726:\tlearn: 0.3030941\ttotal: 681ms\tremaining: 256ms\n",
      "727:\tlearn: 0.3029055\ttotal: 682ms\tremaining: 255ms\n",
      "728:\tlearn: 0.3027988\ttotal: 683ms\tremaining: 254ms\n",
      "729:\tlearn: 0.3026272\ttotal: 683ms\tremaining: 253ms\n",
      "730:\tlearn: 0.3024778\ttotal: 684ms\tremaining: 252ms\n",
      "731:\tlearn: 0.3022842\ttotal: 685ms\tremaining: 251ms\n",
      "732:\tlearn: 0.3022477\ttotal: 685ms\tremaining: 250ms\n",
      "733:\tlearn: 0.3021366\ttotal: 686ms\tremaining: 249ms\n",
      "734:\tlearn: 0.3020232\ttotal: 687ms\tremaining: 248ms\n",
      "735:\tlearn: 0.3019708\ttotal: 687ms\tremaining: 247ms\n",
      "736:\tlearn: 0.3018244\ttotal: 688ms\tremaining: 246ms\n",
      "737:\tlearn: 0.3017443\ttotal: 689ms\tremaining: 245ms\n",
      "738:\tlearn: 0.3016931\ttotal: 690ms\tremaining: 244ms\n",
      "739:\tlearn: 0.3015662\ttotal: 690ms\tremaining: 243ms\n",
      "740:\tlearn: 0.3014487\ttotal: 691ms\tremaining: 241ms\n",
      "741:\tlearn: 0.3014224\ttotal: 692ms\tremaining: 240ms\n",
      "742:\tlearn: 0.3013091\ttotal: 692ms\tremaining: 239ms\n",
      "743:\tlearn: 0.3011152\ttotal: 693ms\tremaining: 238ms\n",
      "744:\tlearn: 0.3009642\ttotal: 694ms\tremaining: 237ms\n",
      "745:\tlearn: 0.3009280\ttotal: 695ms\tremaining: 237ms\n",
      "746:\tlearn: 0.3007202\ttotal: 696ms\tremaining: 236ms\n",
      "747:\tlearn: 0.3006798\ttotal: 697ms\tremaining: 235ms\n",
      "748:\tlearn: 0.3005769\ttotal: 698ms\tremaining: 234ms\n",
      "749:\tlearn: 0.3004562\ttotal: 698ms\tremaining: 233ms\n",
      "750:\tlearn: 0.3001766\ttotal: 699ms\tremaining: 232ms\n",
      "751:\tlearn: 0.3001649\ttotal: 699ms\tremaining: 231ms\n",
      "752:\tlearn: 0.3000859\ttotal: 700ms\tremaining: 230ms\n",
      "753:\tlearn: 0.2998231\ttotal: 701ms\tremaining: 229ms\n",
      "754:\tlearn: 0.2996677\ttotal: 702ms\tremaining: 228ms\n",
      "755:\tlearn: 0.2996266\ttotal: 702ms\tremaining: 227ms\n",
      "756:\tlearn: 0.2994695\ttotal: 703ms\tremaining: 226ms\n",
      "757:\tlearn: 0.2993902\ttotal: 704ms\tremaining: 225ms\n",
      "758:\tlearn: 0.2993642\ttotal: 704ms\tremaining: 224ms\n",
      "759:\tlearn: 0.2993310\ttotal: 705ms\tremaining: 223ms\n",
      "760:\tlearn: 0.2992370\ttotal: 706ms\tremaining: 222ms\n",
      "761:\tlearn: 0.2990439\ttotal: 707ms\tremaining: 221ms\n",
      "762:\tlearn: 0.2987193\ttotal: 707ms\tremaining: 220ms\n",
      "763:\tlearn: 0.2986752\ttotal: 708ms\tremaining: 219ms\n",
      "764:\tlearn: 0.2984133\ttotal: 709ms\tremaining: 218ms\n",
      "765:\tlearn: 0.2982597\ttotal: 710ms\tremaining: 217ms\n",
      "766:\tlearn: 0.2981186\ttotal: 710ms\tremaining: 216ms\n",
      "767:\tlearn: 0.2979134\ttotal: 711ms\tremaining: 215ms\n",
      "768:\tlearn: 0.2977672\ttotal: 712ms\tremaining: 214ms\n",
      "769:\tlearn: 0.2976595\ttotal: 713ms\tremaining: 213ms\n",
      "770:\tlearn: 0.2975990\ttotal: 714ms\tremaining: 212ms\n",
      "771:\tlearn: 0.2974352\ttotal: 714ms\tremaining: 211ms\n",
      "772:\tlearn: 0.2973392\ttotal: 715ms\tremaining: 210ms\n",
      "773:\tlearn: 0.2971160\ttotal: 716ms\tremaining: 209ms\n",
      "774:\tlearn: 0.2970889\ttotal: 716ms\tremaining: 208ms\n",
      "775:\tlearn: 0.2970291\ttotal: 717ms\tremaining: 207ms\n",
      "776:\tlearn: 0.2970262\ttotal: 717ms\tremaining: 206ms\n",
      "777:\tlearn: 0.2969487\ttotal: 718ms\tremaining: 205ms\n"
     ]
    },
    {
     "name": "stdout",
     "output_type": "stream",
     "text": [
      "778:\tlearn: 0.2967977\ttotal: 719ms\tremaining: 204ms\n",
      "779:\tlearn: 0.2967756\ttotal: 720ms\tremaining: 203ms\n",
      "780:\tlearn: 0.2966033\ttotal: 722ms\tremaining: 202ms\n",
      "781:\tlearn: 0.2964283\ttotal: 722ms\tremaining: 201ms\n",
      "782:\tlearn: 0.2963881\ttotal: 723ms\tremaining: 200ms\n",
      "783:\tlearn: 0.2963288\ttotal: 724ms\tremaining: 199ms\n",
      "784:\tlearn: 0.2962512\ttotal: 724ms\tremaining: 198ms\n",
      "785:\tlearn: 0.2961718\ttotal: 726ms\tremaining: 198ms\n",
      "786:\tlearn: 0.2960044\ttotal: 727ms\tremaining: 197ms\n",
      "787:\tlearn: 0.2959229\ttotal: 728ms\tremaining: 196ms\n",
      "788:\tlearn: 0.2958779\ttotal: 729ms\tremaining: 195ms\n",
      "789:\tlearn: 0.2958108\ttotal: 730ms\tremaining: 194ms\n",
      "790:\tlearn: 0.2957677\ttotal: 731ms\tremaining: 193ms\n",
      "791:\tlearn: 0.2955765\ttotal: 732ms\tremaining: 192ms\n",
      "792:\tlearn: 0.2953580\ttotal: 733ms\tremaining: 191ms\n",
      "793:\tlearn: 0.2952533\ttotal: 734ms\tremaining: 190ms\n",
      "794:\tlearn: 0.2952064\ttotal: 735ms\tremaining: 189ms\n",
      "795:\tlearn: 0.2950595\ttotal: 735ms\tremaining: 188ms\n",
      "796:\tlearn: 0.2948031\ttotal: 736ms\tremaining: 187ms\n",
      "797:\tlearn: 0.2947441\ttotal: 737ms\tremaining: 187ms\n",
      "798:\tlearn: 0.2945661\ttotal: 737ms\tremaining: 186ms\n",
      "799:\tlearn: 0.2944735\ttotal: 738ms\tremaining: 185ms\n",
      "800:\tlearn: 0.2942934\ttotal: 739ms\tremaining: 184ms\n",
      "801:\tlearn: 0.2941631\ttotal: 740ms\tremaining: 183ms\n",
      "802:\tlearn: 0.2939173\ttotal: 740ms\tremaining: 182ms\n",
      "803:\tlearn: 0.2938116\ttotal: 741ms\tremaining: 181ms\n",
      "804:\tlearn: 0.2937410\ttotal: 743ms\tremaining: 180ms\n",
      "805:\tlearn: 0.2935215\ttotal: 745ms\tremaining: 179ms\n",
      "806:\tlearn: 0.2933290\ttotal: 746ms\tremaining: 178ms\n",
      "807:\tlearn: 0.2933073\ttotal: 746ms\tremaining: 177ms\n",
      "808:\tlearn: 0.2931593\ttotal: 747ms\tremaining: 176ms\n",
      "809:\tlearn: 0.2931091\ttotal: 748ms\tremaining: 175ms\n",
      "810:\tlearn: 0.2929369\ttotal: 749ms\tremaining: 174ms\n",
      "811:\tlearn: 0.2928132\ttotal: 749ms\tremaining: 173ms\n",
      "812:\tlearn: 0.2927306\ttotal: 750ms\tremaining: 172ms\n",
      "813:\tlearn: 0.2926416\ttotal: 751ms\tremaining: 171ms\n",
      "814:\tlearn: 0.2925739\ttotal: 751ms\tremaining: 171ms\n",
      "815:\tlearn: 0.2924889\ttotal: 752ms\tremaining: 170ms\n",
      "816:\tlearn: 0.2922713\ttotal: 753ms\tremaining: 169ms\n",
      "817:\tlearn: 0.2922420\ttotal: 753ms\tremaining: 168ms\n",
      "818:\tlearn: 0.2921300\ttotal: 754ms\tremaining: 167ms\n",
      "819:\tlearn: 0.2920837\ttotal: 755ms\tremaining: 166ms\n",
      "820:\tlearn: 0.2918116\ttotal: 757ms\tremaining: 165ms\n",
      "821:\tlearn: 0.2916643\ttotal: 758ms\tremaining: 164ms\n",
      "822:\tlearn: 0.2915161\ttotal: 759ms\tremaining: 163ms\n",
      "823:\tlearn: 0.2914306\ttotal: 760ms\tremaining: 162ms\n",
      "824:\tlearn: 0.2912875\ttotal: 761ms\tremaining: 161ms\n",
      "825:\tlearn: 0.2912166\ttotal: 762ms\tremaining: 160ms\n",
      "826:\tlearn: 0.2911943\ttotal: 763ms\tremaining: 160ms\n",
      "827:\tlearn: 0.2909763\ttotal: 764ms\tremaining: 159ms\n",
      "828:\tlearn: 0.2908203\ttotal: 765ms\tremaining: 158ms\n",
      "829:\tlearn: 0.2907032\ttotal: 766ms\tremaining: 157ms\n",
      "830:\tlearn: 0.2906283\ttotal: 766ms\tremaining: 156ms\n",
      "831:\tlearn: 0.2905864\ttotal: 767ms\tremaining: 155ms\n",
      "832:\tlearn: 0.2902980\ttotal: 768ms\tremaining: 154ms\n",
      "833:\tlearn: 0.2902343\ttotal: 768ms\tremaining: 153ms\n",
      "834:\tlearn: 0.2901091\ttotal: 769ms\tremaining: 152ms\n",
      "835:\tlearn: 0.2900003\ttotal: 770ms\tremaining: 151ms\n",
      "836:\tlearn: 0.2898943\ttotal: 771ms\tremaining: 150ms\n",
      "837:\tlearn: 0.2895875\ttotal: 773ms\tremaining: 150ms\n",
      "838:\tlearn: 0.2895288\ttotal: 774ms\tremaining: 149ms\n",
      "839:\tlearn: 0.2894420\ttotal: 776ms\tremaining: 148ms\n",
      "840:\tlearn: 0.2891707\ttotal: 777ms\tremaining: 147ms\n",
      "841:\tlearn: 0.2890477\ttotal: 777ms\tremaining: 146ms\n",
      "842:\tlearn: 0.2888047\ttotal: 778ms\tremaining: 145ms\n",
      "843:\tlearn: 0.2887658\ttotal: 779ms\tremaining: 144ms\n",
      "844:\tlearn: 0.2886987\ttotal: 779ms\tremaining: 143ms\n",
      "845:\tlearn: 0.2886302\ttotal: 780ms\tremaining: 142ms\n",
      "846:\tlearn: 0.2884437\ttotal: 781ms\tremaining: 141ms\n",
      "847:\tlearn: 0.2882786\ttotal: 782ms\tremaining: 140ms\n",
      "848:\tlearn: 0.2882255\ttotal: 782ms\tremaining: 139ms\n",
      "849:\tlearn: 0.2881677\ttotal: 783ms\tremaining: 138ms\n",
      "850:\tlearn: 0.2880600\ttotal: 784ms\tremaining: 137ms\n",
      "851:\tlearn: 0.2879769\ttotal: 785ms\tremaining: 136ms\n",
      "852:\tlearn: 0.2879412\ttotal: 785ms\tremaining: 135ms\n",
      "853:\tlearn: 0.2878456\ttotal: 786ms\tremaining: 134ms\n",
      "854:\tlearn: 0.2878002\ttotal: 787ms\tremaining: 133ms\n",
      "855:\tlearn: 0.2877397\ttotal: 789ms\tremaining: 133ms\n",
      "856:\tlearn: 0.2876000\ttotal: 790ms\tremaining: 132ms\n",
      "857:\tlearn: 0.2875484\ttotal: 792ms\tremaining: 131ms\n",
      "858:\tlearn: 0.2874756\ttotal: 793ms\tremaining: 130ms\n",
      "859:\tlearn: 0.2874456\ttotal: 794ms\tremaining: 129ms\n",
      "860:\tlearn: 0.2872260\ttotal: 795ms\tremaining: 128ms\n",
      "861:\tlearn: 0.2871641\ttotal: 796ms\tremaining: 127ms\n",
      "862:\tlearn: 0.2869266\ttotal: 796ms\tremaining: 126ms\n",
      "863:\tlearn: 0.2867649\ttotal: 797ms\tremaining: 125ms\n",
      "864:\tlearn: 0.2867171\ttotal: 798ms\tremaining: 125ms\n",
      "865:\tlearn: 0.2866753\ttotal: 799ms\tremaining: 124ms\n",
      "866:\tlearn: 0.2866079\ttotal: 799ms\tremaining: 123ms\n",
      "867:\tlearn: 0.2865287\ttotal: 800ms\tremaining: 122ms\n",
      "868:\tlearn: 0.2864154\ttotal: 800ms\tremaining: 121ms\n",
      "869:\tlearn: 0.2863704\ttotal: 801ms\tremaining: 120ms\n",
      "870:\tlearn: 0.2862781\ttotal: 802ms\tremaining: 119ms\n",
      "871:\tlearn: 0.2861298\ttotal: 803ms\tremaining: 118ms\n",
      "872:\tlearn: 0.2860831\ttotal: 804ms\tremaining: 117ms\n",
      "873:\tlearn: 0.2860519\ttotal: 805ms\tremaining: 116ms\n",
      "874:\tlearn: 0.2859521\ttotal: 806ms\tremaining: 115ms\n",
      "875:\tlearn: 0.2859101\ttotal: 807ms\tremaining: 114ms\n",
      "876:\tlearn: 0.2858694\ttotal: 808ms\tremaining: 113ms\n",
      "877:\tlearn: 0.2856476\ttotal: 808ms\tremaining: 112ms\n",
      "878:\tlearn: 0.2856220\ttotal: 809ms\tremaining: 111ms\n",
      "879:\tlearn: 0.2853879\ttotal: 810ms\tremaining: 110ms\n",
      "880:\tlearn: 0.2853858\ttotal: 810ms\tremaining: 109ms\n",
      "881:\tlearn: 0.2853398\ttotal: 811ms\tremaining: 108ms\n",
      "882:\tlearn: 0.2851950\ttotal: 811ms\tremaining: 107ms\n",
      "883:\tlearn: 0.2850664\ttotal: 812ms\tremaining: 107ms\n",
      "884:\tlearn: 0.2849976\ttotal: 813ms\tremaining: 106ms\n",
      "885:\tlearn: 0.2849184\ttotal: 813ms\tremaining: 105ms\n",
      "886:\tlearn: 0.2846766\ttotal: 814ms\tremaining: 104ms\n",
      "887:\tlearn: 0.2845443\ttotal: 815ms\tremaining: 103ms\n",
      "888:\tlearn: 0.2844581\ttotal: 815ms\tremaining: 102ms\n",
      "889:\tlearn: 0.2841833\ttotal: 816ms\tremaining: 101ms\n",
      "890:\tlearn: 0.2840821\ttotal: 817ms\tremaining: 99.9ms\n",
      "891:\tlearn: 0.2838792\ttotal: 817ms\tremaining: 99ms\n",
      "892:\tlearn: 0.2838278\ttotal: 818ms\tremaining: 98.1ms\n",
      "893:\tlearn: 0.2837314\ttotal: 819ms\tremaining: 97.2ms\n",
      "894:\tlearn: 0.2836007\ttotal: 820ms\tremaining: 96.2ms\n",
      "895:\tlearn: 0.2833710\ttotal: 821ms\tremaining: 95.3ms\n",
      "896:\tlearn: 0.2831721\ttotal: 822ms\tremaining: 94.4ms\n",
      "897:\tlearn: 0.2831357\ttotal: 822ms\tremaining: 93.4ms\n",
      "898:\tlearn: 0.2830997\ttotal: 823ms\tremaining: 92.5ms\n",
      "899:\tlearn: 0.2830688\ttotal: 824ms\tremaining: 91.5ms\n",
      "900:\tlearn: 0.2829557\ttotal: 824ms\tremaining: 90.6ms\n",
      "901:\tlearn: 0.2827597\ttotal: 825ms\tremaining: 89.6ms\n",
      "902:\tlearn: 0.2826146\ttotal: 826ms\tremaining: 88.7ms\n",
      "903:\tlearn: 0.2823736\ttotal: 826ms\tremaining: 87.8ms\n",
      "904:\tlearn: 0.2822959\ttotal: 827ms\tremaining: 86.8ms\n",
      "905:\tlearn: 0.2822000\ttotal: 828ms\tremaining: 85.9ms\n",
      "906:\tlearn: 0.2821012\ttotal: 828ms\tremaining: 84.9ms\n",
      "907:\tlearn: 0.2818909\ttotal: 829ms\tremaining: 84ms\n",
      "908:\tlearn: 0.2818282\ttotal: 830ms\tremaining: 83.1ms\n",
      "909:\tlearn: 0.2817838\ttotal: 831ms\tremaining: 82.1ms\n",
      "910:\tlearn: 0.2816200\ttotal: 831ms\tremaining: 81.2ms\n",
      "911:\tlearn: 0.2813914\ttotal: 832ms\tremaining: 80.3ms\n",
      "912:\tlearn: 0.2812357\ttotal: 833ms\tremaining: 79.4ms\n",
      "913:\tlearn: 0.2811536\ttotal: 834ms\tremaining: 78.5ms\n",
      "914:\tlearn: 0.2809543\ttotal: 835ms\tremaining: 77.6ms\n",
      "915:\tlearn: 0.2808905\ttotal: 836ms\tremaining: 76.6ms\n",
      "916:\tlearn: 0.2805518\ttotal: 836ms\tremaining: 75.7ms\n",
      "917:\tlearn: 0.2805150\ttotal: 837ms\tremaining: 74.8ms\n",
      "918:\tlearn: 0.2804638\ttotal: 838ms\tremaining: 73.8ms\n",
      "919:\tlearn: 0.2803483\ttotal: 838ms\tremaining: 72.9ms\n",
      "920:\tlearn: 0.2801520\ttotal: 839ms\tremaining: 72ms\n",
      "921:\tlearn: 0.2800052\ttotal: 840ms\tremaining: 71ms\n",
      "922:\tlearn: 0.2799346\ttotal: 840ms\tremaining: 70.1ms\n",
      "923:\tlearn: 0.2797567\ttotal: 841ms\tremaining: 69.2ms\n",
      "924:\tlearn: 0.2795180\ttotal: 842ms\tremaining: 68.3ms\n",
      "925:\tlearn: 0.2793991\ttotal: 843ms\tremaining: 67.3ms\n",
      "926:\tlearn: 0.2792626\ttotal: 843ms\tremaining: 66.4ms\n",
      "927:\tlearn: 0.2790893\ttotal: 844ms\tremaining: 65.5ms\n",
      "928:\tlearn: 0.2790208\ttotal: 845ms\tremaining: 64.6ms\n",
      "929:\tlearn: 0.2789232\ttotal: 845ms\tremaining: 63.6ms\n",
      "930:\tlearn: 0.2787586\ttotal: 846ms\tremaining: 62.7ms\n",
      "931:\tlearn: 0.2787227\ttotal: 847ms\tremaining: 61.8ms\n",
      "932:\tlearn: 0.2786880\ttotal: 847ms\tremaining: 60.8ms\n",
      "933:\tlearn: 0.2785891\ttotal: 848ms\tremaining: 59.9ms\n",
      "934:\tlearn: 0.2785151\ttotal: 849ms\tremaining: 59ms\n",
      "935:\tlearn: 0.2783734\ttotal: 850ms\tremaining: 58.1ms\n",
      "936:\tlearn: 0.2783245\ttotal: 851ms\tremaining: 57.2ms\n",
      "937:\tlearn: 0.2782236\ttotal: 852ms\tremaining: 56.3ms\n",
      "938:\tlearn: 0.2781526\ttotal: 852ms\tremaining: 55.4ms\n",
      "939:\tlearn: 0.2781500\ttotal: 853ms\tremaining: 54.4ms\n",
      "940:\tlearn: 0.2778809\ttotal: 854ms\tremaining: 53.5ms\n",
      "941:\tlearn: 0.2777971\ttotal: 854ms\tremaining: 52.6ms\n",
      "942:\tlearn: 0.2776792\ttotal: 855ms\tremaining: 51.7ms\n",
      "943:\tlearn: 0.2775615\ttotal: 856ms\tremaining: 50.8ms\n",
      "944:\tlearn: 0.2773182\ttotal: 856ms\tremaining: 49.8ms\n",
      "945:\tlearn: 0.2772704\ttotal: 857ms\tremaining: 48.9ms\n",
      "946:\tlearn: 0.2771682\ttotal: 858ms\tremaining: 48ms\n",
      "947:\tlearn: 0.2770337\ttotal: 859ms\tremaining: 47.1ms\n",
      "948:\tlearn: 0.2767591\ttotal: 859ms\tremaining: 46.2ms\n",
      "949:\tlearn: 0.2766818\ttotal: 860ms\tremaining: 45.3ms\n",
      "950:\tlearn: 0.2765851\ttotal: 861ms\tremaining: 44.3ms\n",
      "951:\tlearn: 0.2764989\ttotal: 861ms\tremaining: 43.4ms\n",
      "952:\tlearn: 0.2763993\ttotal: 862ms\tremaining: 42.5ms\n",
      "953:\tlearn: 0.2763762\ttotal: 863ms\tremaining: 41.6ms\n",
      "954:\tlearn: 0.2762904\ttotal: 863ms\tremaining: 40.7ms\n",
      "955:\tlearn: 0.2761596\ttotal: 864ms\tremaining: 39.8ms\n",
      "956:\tlearn: 0.2761072\ttotal: 865ms\tremaining: 38.9ms\n",
      "957:\tlearn: 0.2760484\ttotal: 866ms\tremaining: 38ms\n",
      "958:\tlearn: 0.2758384\ttotal: 867ms\tremaining: 37ms\n",
      "959:\tlearn: 0.2758024\ttotal: 867ms\tremaining: 36.1ms\n",
      "960:\tlearn: 0.2757765\ttotal: 868ms\tremaining: 35.2ms\n",
      "961:\tlearn: 0.2755901\ttotal: 869ms\tremaining: 34.3ms\n",
      "962:\tlearn: 0.2755560\ttotal: 869ms\tremaining: 33.4ms\n",
      "963:\tlearn: 0.2752924\ttotal: 870ms\tremaining: 32.5ms\n",
      "964:\tlearn: 0.2750783\ttotal: 871ms\tremaining: 31.6ms\n",
      "965:\tlearn: 0.2749322\ttotal: 871ms\tremaining: 30.7ms\n",
      "966:\tlearn: 0.2748974\ttotal: 872ms\tremaining: 29.8ms\n",
      "967:\tlearn: 0.2748131\ttotal: 873ms\tremaining: 28.9ms\n",
      "968:\tlearn: 0.2746010\ttotal: 874ms\tremaining: 27.9ms\n",
      "969:\tlearn: 0.2745318\ttotal: 874ms\tremaining: 27ms\n",
      "970:\tlearn: 0.2743456\ttotal: 875ms\tremaining: 26.1ms\n",
      "971:\tlearn: 0.2741956\ttotal: 876ms\tremaining: 25.2ms\n",
      "972:\tlearn: 0.2741039\ttotal: 876ms\tremaining: 24.3ms\n",
      "973:\tlearn: 0.2740756\ttotal: 877ms\tremaining: 23.4ms\n",
      "974:\tlearn: 0.2739774\ttotal: 878ms\tremaining: 22.5ms\n",
      "975:\tlearn: 0.2737972\ttotal: 878ms\tremaining: 21.6ms\n",
      "976:\tlearn: 0.2737325\ttotal: 879ms\tremaining: 20.7ms\n",
      "977:\tlearn: 0.2736863\ttotal: 880ms\tremaining: 19.8ms\n",
      "978:\tlearn: 0.2736322\ttotal: 882ms\tremaining: 18.9ms\n",
      "979:\tlearn: 0.2733678\ttotal: 883ms\tremaining: 18ms\n",
      "980:\tlearn: 0.2732994\ttotal: 883ms\tremaining: 17.1ms\n",
      "981:\tlearn: 0.2732603\ttotal: 884ms\tremaining: 16.2ms\n",
      "982:\tlearn: 0.2731960\ttotal: 885ms\tremaining: 15.3ms\n",
      "983:\tlearn: 0.2731648\ttotal: 885ms\tremaining: 14.4ms\n",
      "984:\tlearn: 0.2730754\ttotal: 886ms\tremaining: 13.5ms\n",
      "985:\tlearn: 0.2730469\ttotal: 887ms\tremaining: 12.6ms\n",
      "986:\tlearn: 0.2727900\ttotal: 887ms\tremaining: 11.7ms\n",
      "987:\tlearn: 0.2727162\ttotal: 888ms\tremaining: 10.8ms\n",
      "988:\tlearn: 0.2726485\ttotal: 889ms\tremaining: 9.88ms\n",
      "989:\tlearn: 0.2725063\ttotal: 889ms\tremaining: 8.98ms\n",
      "990:\tlearn: 0.2723754\ttotal: 890ms\tremaining: 8.08ms\n",
      "991:\tlearn: 0.2721927\ttotal: 891ms\tremaining: 7.18ms\n",
      "992:\tlearn: 0.2720123\ttotal: 892ms\tremaining: 6.28ms\n",
      "993:\tlearn: 0.2718080\ttotal: 892ms\tremaining: 5.38ms\n",
      "994:\tlearn: 0.2717595\ttotal: 893ms\tremaining: 4.49ms\n",
      "995:\tlearn: 0.2716724\ttotal: 894ms\tremaining: 3.59ms\n",
      "996:\tlearn: 0.2715191\ttotal: 894ms\tremaining: 2.69ms\n",
      "997:\tlearn: 0.2714411\ttotal: 895ms\tremaining: 1.79ms\n",
      "998:\tlearn: 0.2714231\ttotal: 896ms\tremaining: 896us\n",
      "999:\tlearn: 0.2712267\ttotal: 899ms\tremaining: 0us\n"
     ]
    },
    {
     "name": "stdout",
     "output_type": "stream",
     "text": [
      "              precision    recall  f1-score   support\n",
      "\n",
      "         0.0       0.80      0.90      0.85       157\n",
      "         1.0       0.83      0.68      0.75       111\n",
      "\n",
      "    accuracy                           0.81       268\n",
      "   macro avg       0.81      0.79      0.80       268\n",
      "weighted avg       0.81      0.81      0.81       268\n",
      "\n"
     ]
    }
   ],
   "source": [
    "cat = CatBoostClassifier()\n",
    "\n",
    "pred_cat = cat.fit(X_train, y_train).predict(X_val)\n",
    "print(classification_report(y_val, pred_cat))"
   ]
  },
  {
   "cell_type": "markdown",
   "metadata": {},
   "source": [
    "## Final Predict"
   ]
  },
  {
   "cell_type": "code",
   "execution_count": 65,
   "metadata": {},
   "outputs": [],
   "source": [
    "sc = StandardScaler()\n",
    "mm = MinMaxScaler()\n",
    "X_scale = mm.fit_transform(X)\n",
    "X_test_scale = mm.transform(X_test)\n",
    "\n",
    "pred_log = LogisticRegression(C = 1, penalty='l1', solver='liblinear')\\\n",
    ".fit(X_scale, y)\\\n",
    ".predict(X_test_scale)\n",
    "\n",
    "submission = test[['PassengerId']]\n",
    "submission['Survived'] = pred_log.astype(int)\n",
    "submission.to_csv('titanic_log_preds', index = False)"
   ]
  },
  {
   "cell_type": "code",
   "execution_count": 66,
   "metadata": {},
   "outputs": [
    {
     "name": "stdout",
     "output_type": "stream",
     "text": [
      "[18:51:16] WARNING: ../src/learner.cc:1061: Starting in XGBoost 1.3.0, the default evaluation metric used with the objective 'binary:logistic' was changed from 'error' to 'logloss'. Explicitly set eval_metric if you'd like to restore the old behavior.\n"
     ]
    }
   ],
   "source": [
    "xgb = XGBClassifier( learning_rate =0.01,\n",
    " n_estimators=1500,\n",
    " max_depth=3,\n",
    " min_child_weight=2,\n",
    " subsample=0.8,    \n",
    " colsample_bytree=0.5,\n",
    " nthread=3,\n",
    " scale_pos_weight=1,\n",
    " seed=30)\n",
    "\n",
    "sc = StandardScaler()\n",
    "X_scale = sc.fit_transform(X)\n",
    "X_test_scale = sc.transform(X_test)\n",
    "preds_xgb = xgb.fit(X_scale, y).predict(X_test_scale)\n",
    "submission = test[['PassengerId']]\n",
    "submission['Survived'] = preds_xgb.astype(int)\n",
    "submission.to_csv('titanic_xgb_preds', index = False)"
   ]
  },
  {
   "cell_type": "code",
   "execution_count": 67,
   "metadata": {},
   "outputs": [],
   "source": [
    "pca = PCA(n_components=9)\n",
    "X_pca = pca.fit_transform(X)\n",
    "X_test_pca = pca.transform(X_test)\n",
    "pred_log_pca = LogisticRegression(penalty='l1', solver='liblinear').fit(X_pca, y).predict(X_test_pca)\n",
    "submission = test[['PassengerId']]\n",
    "submission['Survived'] = pred_log_pca.astype(int)\n",
    "submission.to_csv('titanic_log_pca', index = False)"
   ]
  },
  {
   "cell_type": "code",
   "execution_count": null,
   "metadata": {},
   "outputs": [],
   "source": []
  },
  {
   "cell_type": "code",
   "execution_count": null,
   "metadata": {},
   "outputs": [],
   "source": []
  }
 ],
 "metadata": {
  "kernelspec": {
   "display_name": "Python 3",
   "language": "python",
   "name": "python3"
  },
  "language_info": {
   "codemirror_mode": {
    "name": "ipython",
    "version": 3
   },
   "file_extension": ".py",
   "mimetype": "text/x-python",
   "name": "python",
   "nbconvert_exporter": "python",
   "pygments_lexer": "ipython3",
   "version": "3.8.5"
  }
 },
 "nbformat": 4,
 "nbformat_minor": 2
}
